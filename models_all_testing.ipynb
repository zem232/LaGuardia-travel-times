{
 "cells": [
  {
   "cell_type": "code",
   "execution_count": 64,
   "metadata": {
    "collapsed": true
   },
   "outputs": [],
   "source": [
    "import pandas as pd\n",
    "import numpy as np \n",
    "from scipy.stats.kde import gaussian_kde\n",
    "from numpy import linspace\n",
    "import matplotlib.pyplot as plt\n",
    "from scipy import stats"
   ]
  },
  {
   "cell_type": "markdown",
   "metadata": {},
   "source": [
    "## Importing Data"
   ]
  },
  {
   "cell_type": "code",
   "execution_count": 2,
   "metadata": {
    "collapsed": false
   },
   "outputs": [],
   "source": [
    "subway_gaps = pd.read_csv('two_days')\n",
    "subway_gaps['time'] = pd.to_numeric(subway_gaps['time'])\n"
   ]
  },
  {
   "cell_type": "code",
   "execution_count": 3,
   "metadata": {
    "collapsed": false
   },
   "outputs": [
    {
     "data": {
      "text/plain": [
       "array(['2', 'M', 'Q', 'R', 'W', '5', 'B', 'A', 'F', '7X', 'E', 'L', '4',\n",
       "       'C', 'N', '1', '6', 'J', 'G', '7', '3', '5X', 'H', 'D', '6X'],\n",
       "      dtype=object)"
      ]
     },
     "execution_count": 3,
     "metadata": {},
     "output_type": "execute_result"
    }
   ],
   "source": [
    "subway_gaps.line.unique()"
   ]
  },
  {
   "cell_type": "code",
   "execution_count": 4,
   "metadata": {
    "collapsed": false
   },
   "outputs": [
    {
     "data": {
      "text/html": [
       "<div>\n",
       "<style scoped>\n",
       "    .dataframe tbody tr th:only-of-type {\n",
       "        vertical-align: middle;\n",
       "    }\n",
       "\n",
       "    .dataframe tbody tr th {\n",
       "        vertical-align: top;\n",
       "    }\n",
       "\n",
       "    .dataframe thead th {\n",
       "        text-align: right;\n",
       "    }\n",
       "</style>\n",
       "<table border=\"1\" class=\"dataframe\">\n",
       "  <thead>\n",
       "    <tr style=\"text-align: right;\">\n",
       "      <th></th>\n",
       "      <th>line</th>\n",
       "      <th>time</th>\n",
       "      <th>time_to_next_subway</th>\n",
       "    </tr>\n",
       "  </thead>\n",
       "  <tbody>\n",
       "    <tr>\n",
       "      <th>0</th>\n",
       "      <td>2</td>\n",
       "      <td>1544824020</td>\n",
       "      <td>13.333333</td>\n",
       "    </tr>\n",
       "    <tr>\n",
       "      <th>1</th>\n",
       "      <td>2</td>\n",
       "      <td>1544824080</td>\n",
       "      <td>12.333333</td>\n",
       "    </tr>\n",
       "    <tr>\n",
       "      <th>2</th>\n",
       "      <td>2</td>\n",
       "      <td>1544824140</td>\n",
       "      <td>11.333333</td>\n",
       "    </tr>\n",
       "    <tr>\n",
       "      <th>3</th>\n",
       "      <td>2</td>\n",
       "      <td>1544824200</td>\n",
       "      <td>10.333333</td>\n",
       "    </tr>\n",
       "    <tr>\n",
       "      <th>4</th>\n",
       "      <td>2</td>\n",
       "      <td>1544824260</td>\n",
       "      <td>9.333333</td>\n",
       "    </tr>\n",
       "  </tbody>\n",
       "</table>\n",
       "</div>"
      ],
      "text/plain": [
       "  line        time  time_to_next_subway\n",
       "0    2  1544824020            13.333333\n",
       "1    2  1544824080            12.333333\n",
       "2    2  1544824140            11.333333\n",
       "3    2  1544824200            10.333333\n",
       "4    2  1544824260             9.333333"
      ]
     },
     "execution_count": 4,
     "metadata": {},
     "output_type": "execute_result"
    }
   ],
   "source": [
    "subway_gaps.head(5)"
   ]
  },
  {
   "cell_type": "code",
   "execution_count": 9,
   "metadata": {
    "collapsed": false
   },
   "outputs": [],
   "source": [
    "#Q72_waits = pd.read_csv('bus_waits_Q72.csv')\n",
    "Q70_waits = pd.read_csv('Q70_waits.csv')\n",
    "Q48_waits = pd.read_csv('Q48_waits.csv')\n",
    "M60_waits = pd.read_csv('M60_waits.csv')\n"
   ]
  },
  {
   "cell_type": "code",
   "execution_count": 11,
   "metadata": {
    "collapsed": false
   },
   "outputs": [],
   "source": [
    "Q70_travel = pd.read_csv('Q70_traveltime.csv')\n",
    "M60_travel = pd.read_csv('M60_Harlem_travel_time.csv')\n",
    "Q48_travel = pd.read_csv('Q48_traveltime.csv')"
   ]
  },
  {
   "cell_type": "code",
   "execution_count": 12,
   "metadata": {
    "collapsed": false
   },
   "outputs": [
    {
     "name": "stdout",
     "output_type": "stream",
     "text": [
      "<class 'pandas.core.frame.DataFrame'>\n",
      "RangeIndex: 45 entries, 0 to 44\n",
      "Data columns (total 3 columns):\n",
      "LGA_Arrival            45 non-null object\n",
      "Departure              45 non-null object\n",
      "travel_time_seconds    45 non-null int64\n",
      "dtypes: int64(1), object(2)\n",
      "memory usage: 1.1+ KB\n"
     ]
    }
   ],
   "source": [
    "Q70_travel.info()"
   ]
  },
  {
   "cell_type": "code",
   "execution_count": null,
   "metadata": {
    "collapsed": true
   },
   "outputs": [],
   "source": []
  },
  {
   "cell_type": "markdown",
   "metadata": {},
   "source": [
    "## Subway Line Wait Time Distributions"
   ]
  },
  {
   "cell_type": "code",
   "execution_count": 13,
   "metadata": {
    "collapsed": true
   },
   "outputs": [],
   "source": [
    "#add express trains\n",
    "\n",
    "wait_7 = subway_gaps[subway_gaps['line'] == '7X']\n",
    "wait_5 = subway_gaps[subway_gaps['line'] == '5X']\n",
    "wait_W = subway_gaps[subway_gaps['line'] == 'W']\n",
    "wait_F = subway_gaps[subway_gaps['line'] == 'F']\n",
    "wait_G = subway_gaps[subway_gaps['line'] == 'G']"
   ]
  },
  {
   "cell_type": "code",
   "execution_count": 14,
   "metadata": {
    "collapsed": false
   },
   "outputs": [
    {
     "data": {
      "text/plain": [
       "<matplotlib.axes._subplots.AxesSubplot at 0x1a20a3f310>"
      ]
     },
     "execution_count": 14,
     "metadata": {},
     "output_type": "execute_result"
    },
    {
     "data": {
      "image/png": "[encoded data removed]",
      "text/plain": [
       "<Figure size 432x288 with 1 Axes>"
      ]
     },
     "metadata": {
      "needs_background": "light"
     },
     "output_type": "display_data"
    }
   ],
   "source": [
    "wait_7.plot.hist(x='time', y='time_to_next_subway', bins=30)"
   ]
  },
  {
   "cell_type": "code",
   "execution_count": 15,
   "metadata": {
    "collapsed": false
   },
   "outputs": [
    {
     "data": {
      "text/plain": [
       "<matplotlib.axes._subplots.AxesSubplot at 0x1a20b6ed10>"
      ]
     },
     "execution_count": 15,
     "metadata": {},
     "output_type": "execute_result"
    },
    {
     "data": {
      "image/png": "[encoded data removed]",
      "text/plain": [
       "<Figure size 432x288 with 1 Axes>"
      ]
     },
     "metadata": {
      "needs_background": "light"
     },
     "output_type": "display_data"
    }
   ],
   "source": [
    "wait_5.plot.hist(x='time', y='time_to_next_subway', bins=30)"
   ]
  },
  {
   "cell_type": "code",
   "execution_count": 16,
   "metadata": {
    "collapsed": false
   },
   "outputs": [
    {
     "data": {
      "text/plain": [
       "<matplotlib.axes._subplots.AxesSubplot at 0x1a20c9bbd0>"
      ]
     },
     "execution_count": 16,
     "metadata": {},
     "output_type": "execute_result"
    },
    {
     "data": {
      "image/png": "[encoded data removed]",
      "text/plain": [
       "<Figure size 432x288 with 1 Axes>"
      ]
     },
     "metadata": {
      "needs_background": "light"
     },
     "output_type": "display_data"
    }
   ],
   "source": [
    "wait_W.plot.hist(x='time', y='time_to_next_subway', bins=30)"
   ]
  },
  {
   "cell_type": "code",
   "execution_count": 17,
   "metadata": {
    "collapsed": false
   },
   "outputs": [
    {
     "data": {
      "text/plain": [
       "<matplotlib.axes._subplots.AxesSubplot at 0x1a20dd21d0>"
      ]
     },
     "execution_count": 17,
     "metadata": {},
     "output_type": "execute_result"
    },
    {
     "data": {
      "image/png": "[encoded data removed]",
      "text/plain": [
       "<Figure size 432x288 with 1 Axes>"
      ]
     },
     "metadata": {
      "needs_background": "light"
     },
     "output_type": "display_data"
    }
   ],
   "source": [
    "wait_F.plot.hist(x='time', y='time_to_next_subway', bins=30)"
   ]
  },
  {
   "cell_type": "code",
   "execution_count": 18,
   "metadata": {
    "collapsed": false
   },
   "outputs": [
    {
     "data": {
      "text/plain": [
       "<matplotlib.axes._subplots.AxesSubplot at 0x1a1e7111d0>"
      ]
     },
     "execution_count": 18,
     "metadata": {},
     "output_type": "execute_result"
    },
    {
     "data": {
      "image/png": "[encoded data removed]",
      "text/plain": [
       "<Figure size 432x288 with 1 Axes>"
      ]
     },
     "metadata": {
      "needs_background": "light"
     },
     "output_type": "display_data"
    }
   ],
   "source": [
    "wait_G.plot.hist(x='time', y='time_to_next_subway', bins=30)"
   ]
  },
  {
   "cell_type": "code",
   "execution_count": 19,
   "metadata": {
    "collapsed": false
   },
   "outputs": [
    {
     "name": "stderr",
     "output_type": "stream",
     "text": [
      "/Users/mariumsultan/anaconda2/lib/python2.7/site-packages/ipykernel/__main__.py:2: FutureWarning: Method .as_matrix will be removed in a future version. Use .values instead.\n",
      "  from ipykernel import kernelapp as app\n",
      "/Users/mariumsultan/anaconda2/lib/python2.7/site-packages/ipykernel/__main__.py:3: FutureWarning: Method .as_matrix will be removed in a future version. Use .values instead.\n",
      "  app.launch_new_instance()\n",
      "/Users/mariumsultan/anaconda2/lib/python2.7/site-packages/ipykernel/__main__.py:4: FutureWarning: Method .as_matrix will be removed in a future version. Use .values instead.\n",
      "/Users/mariumsultan/anaconda2/lib/python2.7/site-packages/ipykernel/__main__.py:5: FutureWarning: Method .as_matrix will be removed in a future version. Use .values instead.\n",
      "/Users/mariumsultan/anaconda2/lib/python2.7/site-packages/ipykernel/__main__.py:6: FutureWarning: Method .as_matrix will be removed in a future version. Use .values instead.\n"
     ]
    }
   ],
   "source": [
    "#make matrices\n",
    "matrix_7 = wait_7['time_to_next_subway'].as_matrix()\n",
    "matrix_5 = wait_5['time_to_next_subway'].as_matrix()\n",
    "matrix_W = wait_W['time_to_next_subway'].as_matrix()\n",
    "matrix_F = wait_F['time_to_next_subway'].as_matrix()\n",
    "matrix_G = wait_G['time_to_next_subway'].as_matrix()"
   ]
  },
  {
   "cell_type": "code",
   "execution_count": 20,
   "metadata": {
    "collapsed": false
   },
   "outputs": [
    {
     "data": {
      "text/plain": [
       "[<matplotlib.lines.Line2D at 0x1a1d8874d0>]"
      ]
     },
     "execution_count": 20,
     "metadata": {},
     "output_type": "execute_result"
    },
    {
     "data": {
      "image/png": "[encoded data removed]",
      "text/plain": [
       "<Figure size 432x288 with 1 Axes>"
      ]
     },
     "metadata": {
      "needs_background": "light"
     },
     "output_type": "display_data"
    }
   ],
   "source": [
    "# this create the kernel, given an array it will estimate the probability over that values\n",
    "kde_7 = gaussian_kde(matrix_7)\n",
    "kde_5 = gaussian_kde(matrix_5)\n",
    "kde_W = gaussian_kde(matrix_W)\n",
    "kde_F = gaussian_kde(matrix_F)\n",
    "kde_G = gaussian_kde(matrix_G)\n",
    "\n",
    "# these are the values over wich your kernel will be evaluated\n",
    "dist_space_7 = linspace( min(matrix_7), max(matrix_7), 100)\n",
    "dist_space_5 = linspace( min(matrix_5), max(matrix_5), 100)\n",
    "dist_space_W = linspace( min(matrix_W), max(matrix_W), 100)\n",
    "dist_space_F = linspace( min(matrix_F), max(matrix_F), 100)\n",
    "dist_space_G = linspace( min(matrix_G), max(matrix_G), 100)\n",
    "\n",
    "# plot the results\n",
    "plt.plot( dist_space_7, kde_7(dist_space_7) )\n",
    "plt.plot( dist_space_5, kde_5(dist_space_5) )\n",
    "plt.plot( dist_space_W, kde_W(dist_space_W) )\n",
    "plt.plot( dist_space_F, kde_F(dist_space_F) )\n",
    "plt.plot( dist_space_G, kde_G(dist_space_G) )"
   ]
  },
  {
   "cell_type": "markdown",
   "metadata": {},
   "source": [
    "## Bus Wait Time Distributions "
   ]
  },
  {
   "cell_type": "code",
   "execution_count": 21,
   "metadata": {
    "collapsed": false
   },
   "outputs": [
    {
     "name": "stderr",
     "output_type": "stream",
     "text": [
      "/Users/mariumsultan/anaconda2/lib/python2.7/site-packages/ipykernel/__main__.py:2: FutureWarning: Method .as_matrix will be removed in a future version. Use .values instead.\n",
      "  from ipykernel import kernelapp as app\n",
      "/Users/mariumsultan/anaconda2/lib/python2.7/site-packages/ipykernel/__main__.py:3: FutureWarning: Method .as_matrix will be removed in a future version. Use .values instead.\n",
      "  app.launch_new_instance()\n",
      "/Users/mariumsultan/anaconda2/lib/python2.7/site-packages/ipykernel/__main__.py:4: FutureWarning: Method .as_matrix will be removed in a future version. Use .values instead.\n"
     ]
    }
   ],
   "source": [
    "#matrix_Q72 = Q72_waits['time_to_next_bus'].as_matrix()\n",
    "matrix_Q70 = Q70_waits['time_to_next_bus'].as_matrix()\n",
    "matrix_Q48 = Q48_waits['time_to_next_bus'].as_matrix()\n",
    "matrix_M60 = M60_waits['time_to_next_bus'].as_matrix()\n"
   ]
  },
  {
   "cell_type": "code",
   "execution_count": 23,
   "metadata": {
    "collapsed": false
   },
   "outputs": [
    {
     "data": {
      "image/png": "[encoded data removed]",
      "text/plain": [
       "<Figure size 432x288 with 1 Axes>"
      ]
     },
     "metadata": {
      "needs_background": "light"
     },
     "output_type": "display_data"
    }
   ],
   "source": [
    "# this create the kernel, given an array it will estimate the probability over that values\n",
    "kde_Q70 = gaussian_kde(matrix_Q70)\n",
    "kde_Q48 = gaussian_kde(matrix_Q48)\n",
    "kde_M60 = gaussian_kde(matrix_M60)\n",
    "\n",
    "# these are the values over wich your kernel will be evaluated\n",
    "dist_space_Q70 = linspace( min(matrix_Q70), max(matrix_Q70), 100)\n",
    "dist_space_Q48 = linspace( min(matrix_Q48), max(matrix_Q48), 100)\n",
    "dist_space_M60 = linspace( min(matrix_M60), max(matrix_M60), 100)\n",
    "\n",
    "\n",
    "# plot the results\n",
    "plt.plot( dist_space_Q70, kde_Q70(dist_space_Q70) )\n",
    "plt.plot( dist_space_Q48, kde_Q48(dist_space_Q48) )\n",
    "plt.plot( dist_space_M60, kde_M60(dist_space_M60) )\n",
    "\n",
    "plt.show()"
   ]
  },
  {
   "cell_type": "markdown",
   "metadata": {},
   "source": [
    "## Bus Travel Time Distributions\n"
   ]
  },
  {
   "cell_type": "code",
   "execution_count": 24,
   "metadata": {
    "collapsed": false
   },
   "outputs": [
    {
     "name": "stdout",
     "output_type": "stream",
     "text": [
      "<class 'pandas.core.frame.DataFrame'>\n",
      "RangeIndex: 45 entries, 0 to 44\n",
      "Data columns (total 4 columns):\n",
      "LGA_Arrival            45 non-null object\n",
      "Departure              45 non-null object\n",
      "travel_time_seconds    45 non-null int64\n",
      "travel_time_mins       45 non-null float64\n",
      "dtypes: float64(1), int64(1), object(2)\n",
      "memory usage: 1.5+ KB\n"
     ]
    }
   ],
   "source": [
    "Q70_travel['travel_time_mins'] = Q70_travel['travel_time_seconds']/60\n",
    "M60_travel['travel_time_mins'] = M60_travel['travel_time_seconds']/60\n",
    "Q48_travel['travel_time_mins'] = Q48_travel['travel_time_seconds']/60\n",
    "\n",
    "Q70_travel.info()"
   ]
  },
  {
   "cell_type": "code",
   "execution_count": 25,
   "metadata": {
    "collapsed": false
   },
   "outputs": [
    {
     "data": {
      "text/html": [
       "<div>\n",
       "<style scoped>\n",
       "    .dataframe tbody tr th:only-of-type {\n",
       "        vertical-align: middle;\n",
       "    }\n",
       "\n",
       "    .dataframe tbody tr th {\n",
       "        vertical-align: top;\n",
       "    }\n",
       "\n",
       "    .dataframe thead th {\n",
       "        text-align: right;\n",
       "    }\n",
       "</style>\n",
       "<table border=\"1\" class=\"dataframe\">\n",
       "  <thead>\n",
       "    <tr style=\"text-align: right;\">\n",
       "      <th></th>\n",
       "      <th>LGA_Arrival</th>\n",
       "      <th>Departure</th>\n",
       "      <th>travel_time_seconds</th>\n",
       "      <th>travel_time_mins</th>\n",
       "    </tr>\n",
       "  </thead>\n",
       "  <tbody>\n",
       "    <tr>\n",
       "      <th>0</th>\n",
       "      <td>2018-12-14 21:59:48.639</td>\n",
       "      <td>2018-12-14 21:45:46.909</td>\n",
       "      <td>842</td>\n",
       "      <td>14.033333</td>\n",
       "    </tr>\n",
       "    <tr>\n",
       "      <th>1</th>\n",
       "      <td>2018-12-14 22:08:30.516</td>\n",
       "      <td>2018-12-14 21:54:26.780</td>\n",
       "      <td>844</td>\n",
       "      <td>14.066667</td>\n",
       "    </tr>\n",
       "    <tr>\n",
       "      <th>2</th>\n",
       "      <td>2018-12-14 22:38:07.979</td>\n",
       "      <td>2018-12-14 22:21:04.504</td>\n",
       "      <td>1023</td>\n",
       "      <td>17.050000</td>\n",
       "    </tr>\n",
       "    <tr>\n",
       "      <th>3</th>\n",
       "      <td>2018-12-14 22:32:31.362</td>\n",
       "      <td>2018-12-14 22:10:41.988</td>\n",
       "      <td>1309</td>\n",
       "      <td>21.816667</td>\n",
       "    </tr>\n",
       "    <tr>\n",
       "      <th>4</th>\n",
       "      <td>2018-12-14 22:27:13.978</td>\n",
       "      <td>2018-12-14 22:11:05.936</td>\n",
       "      <td>968</td>\n",
       "      <td>16.133333</td>\n",
       "    </tr>\n",
       "    <tr>\n",
       "      <th>5</th>\n",
       "      <td>2018-12-14 22:22:59.232</td>\n",
       "      <td>2018-12-14 22:13:03.700</td>\n",
       "      <td>596</td>\n",
       "      <td>9.933333</td>\n",
       "    </tr>\n",
       "    <tr>\n",
       "      <th>6</th>\n",
       "      <td>2018-12-14 23:43:38.848</td>\n",
       "      <td>2018-12-14 22:50:42.136</td>\n",
       "      <td>3177</td>\n",
       "      <td>52.950000</td>\n",
       "    </tr>\n",
       "    <tr>\n",
       "      <th>7</th>\n",
       "      <td>2018-12-14 23:13:32.391</td>\n",
       "      <td>2018-12-14 22:52:10.544</td>\n",
       "      <td>1282</td>\n",
       "      <td>21.366667</td>\n",
       "    </tr>\n",
       "    <tr>\n",
       "      <th>8</th>\n",
       "      <td>2018-12-14 23:21:52.383</td>\n",
       "      <td>2018-12-14 22:56:38.912</td>\n",
       "      <td>1513</td>\n",
       "      <td>25.216667</td>\n",
       "    </tr>\n",
       "    <tr>\n",
       "      <th>9</th>\n",
       "      <td>2018-12-14 23:33:02.983</td>\n",
       "      <td>2018-12-14 23:08:14.591</td>\n",
       "      <td>1488</td>\n",
       "      <td>24.800000</td>\n",
       "    </tr>\n",
       "    <tr>\n",
       "      <th>10</th>\n",
       "      <td>2018-12-14 23:37:10.778</td>\n",
       "      <td>2018-12-14 23:11:40.971</td>\n",
       "      <td>1530</td>\n",
       "      <td>25.500000</td>\n",
       "    </tr>\n",
       "    <tr>\n",
       "      <th>11</th>\n",
       "      <td>2018-12-14 23:42:32.457</td>\n",
       "      <td>2018-12-14 23:22:38.606</td>\n",
       "      <td>1194</td>\n",
       "      <td>19.900000</td>\n",
       "    </tr>\n",
       "    <tr>\n",
       "      <th>12</th>\n",
       "      <td>2018-12-14 23:56:10.924</td>\n",
       "      <td>2018-12-14 23:36:09.208</td>\n",
       "      <td>1202</td>\n",
       "      <td>20.033333</td>\n",
       "    </tr>\n",
       "    <tr>\n",
       "      <th>13</th>\n",
       "      <td>2018-12-15 00:01:28.256</td>\n",
       "      <td>2018-12-14 23:56:10.924</td>\n",
       "      <td>317</td>\n",
       "      <td>5.283333</td>\n",
       "    </tr>\n",
       "    <tr>\n",
       "      <th>14</th>\n",
       "      <td>2018-12-15 00:11:17.630</td>\n",
       "      <td>2018-12-14 23:58:44.118</td>\n",
       "      <td>754</td>\n",
       "      <td>12.566667</td>\n",
       "    </tr>\n",
       "    <tr>\n",
       "      <th>15</th>\n",
       "      <td>2018-12-10 19:18:44.251</td>\n",
       "      <td>2018-12-10 19:05:45.622</td>\n",
       "      <td>779</td>\n",
       "      <td>12.983333</td>\n",
       "    </tr>\n",
       "    <tr>\n",
       "      <th>16</th>\n",
       "      <td>2018-12-10 19:30:05.925</td>\n",
       "      <td>2018-12-10 19:11:10.519</td>\n",
       "      <td>1135</td>\n",
       "      <td>18.916667</td>\n",
       "    </tr>\n",
       "    <tr>\n",
       "      <th>17</th>\n",
       "      <td>2018-12-10 19:35:49.645</td>\n",
       "      <td>2018-12-10 19:17:34.100</td>\n",
       "      <td>1096</td>\n",
       "      <td>18.266667</td>\n",
       "    </tr>\n",
       "    <tr>\n",
       "      <th>18</th>\n",
       "      <td>2018-12-10 19:45:16.895</td>\n",
       "      <td>2018-12-10 19:29:22.755</td>\n",
       "      <td>954</td>\n",
       "      <td>15.900000</td>\n",
       "    </tr>\n",
       "    <tr>\n",
       "      <th>19</th>\n",
       "      <td>2018-12-10 19:46:04.760</td>\n",
       "      <td>2018-12-10 19:33:52.708</td>\n",
       "      <td>732</td>\n",
       "      <td>12.200000</td>\n",
       "    </tr>\n",
       "    <tr>\n",
       "      <th>20</th>\n",
       "      <td>2018-12-10 19:52:28.543</td>\n",
       "      <td>2018-12-10 19:40:26.945</td>\n",
       "      <td>722</td>\n",
       "      <td>12.033333</td>\n",
       "    </tr>\n",
       "    <tr>\n",
       "      <th>21</th>\n",
       "      <td>2018-12-10 20:01:13.909</td>\n",
       "      <td>2018-12-10 19:49:59.056</td>\n",
       "      <td>675</td>\n",
       "      <td>11.250000</td>\n",
       "    </tr>\n",
       "    <tr>\n",
       "      <th>22</th>\n",
       "      <td>2018-12-10 20:13:20.515</td>\n",
       "      <td>2018-12-10 19:58:59.764</td>\n",
       "      <td>861</td>\n",
       "      <td>14.350000</td>\n",
       "    </tr>\n",
       "    <tr>\n",
       "      <th>23</th>\n",
       "      <td>2018-12-10 20:29:43.256</td>\n",
       "      <td>2018-12-10 20:07:43.672</td>\n",
       "      <td>1320</td>\n",
       "      <td>22.000000</td>\n",
       "    </tr>\n",
       "    <tr>\n",
       "      <th>24</th>\n",
       "      <td>2018-12-10 20:28:19.878</td>\n",
       "      <td>2018-12-10 20:13:46.112</td>\n",
       "      <td>874</td>\n",
       "      <td>14.566667</td>\n",
       "    </tr>\n",
       "    <tr>\n",
       "      <th>25</th>\n",
       "      <td>2018-12-10 20:34:18.431</td>\n",
       "      <td>2018-12-10 20:21:43.908</td>\n",
       "      <td>755</td>\n",
       "      <td>12.583333</td>\n",
       "    </tr>\n",
       "    <tr>\n",
       "      <th>26</th>\n",
       "      <td>2018-12-10 20:44:20.884</td>\n",
       "      <td>2018-12-10 20:34:38.832</td>\n",
       "      <td>582</td>\n",
       "      <td>9.700000</td>\n",
       "    </tr>\n",
       "    <tr>\n",
       "      <th>27</th>\n",
       "      <td>2018-12-10 20:58:35.337</td>\n",
       "      <td>2018-12-10 20:45:52.943</td>\n",
       "      <td>762</td>\n",
       "      <td>12.700000</td>\n",
       "    </tr>\n",
       "    <tr>\n",
       "      <th>28</th>\n",
       "      <td>2018-12-10 20:52:12.757</td>\n",
       "      <td>2018-12-10 20:37:36.735</td>\n",
       "      <td>876</td>\n",
       "      <td>14.600000</td>\n",
       "    </tr>\n",
       "    <tr>\n",
       "      <th>29</th>\n",
       "      <td>2018-12-10 21:03:57.673</td>\n",
       "      <td>2018-12-10 20:54:06.588</td>\n",
       "      <td>591</td>\n",
       "      <td>9.850000</td>\n",
       "    </tr>\n",
       "    <tr>\n",
       "      <th>30</th>\n",
       "      <td>2018-12-11 19:16:28.106</td>\n",
       "      <td>2018-12-11 19:03:16.094</td>\n",
       "      <td>792</td>\n",
       "      <td>13.200000</td>\n",
       "    </tr>\n",
       "    <tr>\n",
       "      <th>31</th>\n",
       "      <td>2018-12-11 19:22:11.868</td>\n",
       "      <td>2018-12-11 19:09:16.752</td>\n",
       "      <td>775</td>\n",
       "      <td>12.916667</td>\n",
       "    </tr>\n",
       "    <tr>\n",
       "      <th>32</th>\n",
       "      <td>2018-12-11 19:32:31.765</td>\n",
       "      <td>2018-12-11 19:16:50.093</td>\n",
       "      <td>942</td>\n",
       "      <td>15.700000</td>\n",
       "    </tr>\n",
       "    <tr>\n",
       "      <th>33</th>\n",
       "      <td>2018-12-11 19:41:27.684</td>\n",
       "      <td>2018-12-11 19:25:13.423</td>\n",
       "      <td>974</td>\n",
       "      <td>16.233333</td>\n",
       "    </tr>\n",
       "    <tr>\n",
       "      <th>34</th>\n",
       "      <td>2018-12-11 19:50:41.107</td>\n",
       "      <td>2018-12-11 19:34:00.312</td>\n",
       "      <td>1001</td>\n",
       "      <td>16.683333</td>\n",
       "    </tr>\n",
       "    <tr>\n",
       "      <th>35</th>\n",
       "      <td>2018-12-11 20:03:09.433</td>\n",
       "      <td>2018-12-11 19:49:56.353</td>\n",
       "      <td>793</td>\n",
       "      <td>13.216667</td>\n",
       "    </tr>\n",
       "    <tr>\n",
       "      <th>36</th>\n",
       "      <td>2018-12-11 19:55:29.900</td>\n",
       "      <td>2018-12-11 19:42:13.176</td>\n",
       "      <td>797</td>\n",
       "      <td>13.283333</td>\n",
       "    </tr>\n",
       "    <tr>\n",
       "      <th>37</th>\n",
       "      <td>2018-12-11 20:12:46.696</td>\n",
       "      <td>2018-12-11 20:00:07.908</td>\n",
       "      <td>759</td>\n",
       "      <td>12.650000</td>\n",
       "    </tr>\n",
       "    <tr>\n",
       "      <th>38</th>\n",
       "      <td>2018-12-11 20:21:51.029</td>\n",
       "      <td>2018-12-11 20:08:06.352</td>\n",
       "      <td>825</td>\n",
       "      <td>13.750000</td>\n",
       "    </tr>\n",
       "    <tr>\n",
       "      <th>39</th>\n",
       "      <td>2018-12-11 20:27:57.931</td>\n",
       "      <td>2018-12-11 20:14:18.539</td>\n",
       "      <td>819</td>\n",
       "      <td>13.650000</td>\n",
       "    </tr>\n",
       "    <tr>\n",
       "      <th>40</th>\n",
       "      <td>2018-12-11 20:36:48.741</td>\n",
       "      <td>2018-12-11 20:21:51.029</td>\n",
       "      <td>898</td>\n",
       "      <td>14.966667</td>\n",
       "    </tr>\n",
       "    <tr>\n",
       "      <th>41</th>\n",
       "      <td>2018-12-11 20:42:59.240</td>\n",
       "      <td>2018-12-11 20:30:14.288</td>\n",
       "      <td>765</td>\n",
       "      <td>12.750000</td>\n",
       "    </tr>\n",
       "    <tr>\n",
       "      <th>42</th>\n",
       "      <td>2018-12-11 20:52:09.795</td>\n",
       "      <td>2018-12-11 20:37:32.197</td>\n",
       "      <td>878</td>\n",
       "      <td>14.633333</td>\n",
       "    </tr>\n",
       "    <tr>\n",
       "      <th>43</th>\n",
       "      <td>2018-12-11 20:59:24.568</td>\n",
       "      <td>2018-12-11 20:42:09.626</td>\n",
       "      <td>1035</td>\n",
       "      <td>17.250000</td>\n",
       "    </tr>\n",
       "    <tr>\n",
       "      <th>44</th>\n",
       "      <td>2018-12-11 21:00:08.223</td>\n",
       "      <td>2018-12-11 20:54:00.613</td>\n",
       "      <td>368</td>\n",
       "      <td>6.133333</td>\n",
       "    </tr>\n",
       "  </tbody>\n",
       "</table>\n",
       "</div>"
      ],
      "text/plain": [
       "                LGA_Arrival                Departure  travel_time_seconds  \\\n",
       "0   2018-12-14 21:59:48.639  2018-12-14 21:45:46.909                  842   \n",
       "1   2018-12-14 22:08:30.516  2018-12-14 21:54:26.780                  844   \n",
       "2   2018-12-14 22:38:07.979  2018-12-14 22:21:04.504                 1023   \n",
       "3   2018-12-14 22:32:31.362  2018-12-14 22:10:41.988                 1309   \n",
       "4   2018-12-14 22:27:13.978  2018-12-14 22:11:05.936                  968   \n",
       "5   2018-12-14 22:22:59.232  2018-12-14 22:13:03.700                  596   \n",
       "6   2018-12-14 23:43:38.848  2018-12-14 22:50:42.136                 3177   \n",
       "7   2018-12-14 23:13:32.391  2018-12-14 22:52:10.544                 1282   \n",
       "8   2018-12-14 23:21:52.383  2018-12-14 22:56:38.912                 1513   \n",
       "9   2018-12-14 23:33:02.983  2018-12-14 23:08:14.591                 1488   \n",
       "10  2018-12-14 23:37:10.778  2018-12-14 23:11:40.971                 1530   \n",
       "11  2018-12-14 23:42:32.457  2018-12-14 23:22:38.606                 1194   \n",
       "12  2018-12-14 23:56:10.924  2018-12-14 23:36:09.208                 1202   \n",
       "13  2018-12-15 00:01:28.256  2018-12-14 23:56:10.924                  317   \n",
       "14  2018-12-15 00:11:17.630  2018-12-14 23:58:44.118                  754   \n",
       "15  2018-12-10 19:18:44.251  2018-12-10 19:05:45.622                  779   \n",
       "16  2018-12-10 19:30:05.925  2018-12-10 19:11:10.519                 1135   \n",
       "17  2018-12-10 19:35:49.645  2018-12-10 19:17:34.100                 1096   \n",
       "18  2018-12-10 19:45:16.895  2018-12-10 19:29:22.755                  954   \n",
       "19  2018-12-10 19:46:04.760  2018-12-10 19:33:52.708                  732   \n",
       "20  2018-12-10 19:52:28.543  2018-12-10 19:40:26.945                  722   \n",
       "21  2018-12-10 20:01:13.909  2018-12-10 19:49:59.056                  675   \n",
       "22  2018-12-10 20:13:20.515  2018-12-10 19:58:59.764                  861   \n",
       "23  2018-12-10 20:29:43.256  2018-12-10 20:07:43.672                 1320   \n",
       "24  2018-12-10 20:28:19.878  2018-12-10 20:13:46.112                  874   \n",
       "25  2018-12-10 20:34:18.431  2018-12-10 20:21:43.908                  755   \n",
       "26  2018-12-10 20:44:20.884  2018-12-10 20:34:38.832                  582   \n",
       "27  2018-12-10 20:58:35.337  2018-12-10 20:45:52.943                  762   \n",
       "28  2018-12-10 20:52:12.757  2018-12-10 20:37:36.735                  876   \n",
       "29  2018-12-10 21:03:57.673  2018-12-10 20:54:06.588                  591   \n",
       "30  2018-12-11 19:16:28.106  2018-12-11 19:03:16.094                  792   \n",
       "31  2018-12-11 19:22:11.868  2018-12-11 19:09:16.752                  775   \n",
       "32  2018-12-11 19:32:31.765  2018-12-11 19:16:50.093                  942   \n",
       "33  2018-12-11 19:41:27.684  2018-12-11 19:25:13.423                  974   \n",
       "34  2018-12-11 19:50:41.107  2018-12-11 19:34:00.312                 1001   \n",
       "35  2018-12-11 20:03:09.433  2018-12-11 19:49:56.353                  793   \n",
       "36  2018-12-11 19:55:29.900  2018-12-11 19:42:13.176                  797   \n",
       "37  2018-12-11 20:12:46.696  2018-12-11 20:00:07.908                  759   \n",
       "38  2018-12-11 20:21:51.029  2018-12-11 20:08:06.352                  825   \n",
       "39  2018-12-11 20:27:57.931  2018-12-11 20:14:18.539                  819   \n",
       "40  2018-12-11 20:36:48.741  2018-12-11 20:21:51.029                  898   \n",
       "41  2018-12-11 20:42:59.240  2018-12-11 20:30:14.288                  765   \n",
       "42  2018-12-11 20:52:09.795  2018-12-11 20:37:32.197                  878   \n",
       "43  2018-12-11 20:59:24.568  2018-12-11 20:42:09.626                 1035   \n",
       "44  2018-12-11 21:00:08.223  2018-12-11 20:54:00.613                  368   \n",
       "\n",
       "    travel_time_mins  \n",
       "0          14.033333  \n",
       "1          14.066667  \n",
       "2          17.050000  \n",
       "3          21.816667  \n",
       "4          16.133333  \n",
       "5           9.933333  \n",
       "6          52.950000  \n",
       "7          21.366667  \n",
       "8          25.216667  \n",
       "9          24.800000  \n",
       "10         25.500000  \n",
       "11         19.900000  \n",
       "12         20.033333  \n",
       "13          5.283333  \n",
       "14         12.566667  \n",
       "15         12.983333  \n",
       "16         18.916667  \n",
       "17         18.266667  \n",
       "18         15.900000  \n",
       "19         12.200000  \n",
       "20         12.033333  \n",
       "21         11.250000  \n",
       "22         14.350000  \n",
       "23         22.000000  \n",
       "24         14.566667  \n",
       "25         12.583333  \n",
       "26          9.700000  \n",
       "27         12.700000  \n",
       "28         14.600000  \n",
       "29          9.850000  \n",
       "30         13.200000  \n",
       "31         12.916667  \n",
       "32         15.700000  \n",
       "33         16.233333  \n",
       "34         16.683333  \n",
       "35         13.216667  \n",
       "36         13.283333  \n",
       "37         12.650000  \n",
       "38         13.750000  \n",
       "39         13.650000  \n",
       "40         14.966667  \n",
       "41         12.750000  \n",
       "42         14.633333  \n",
       "43         17.250000  \n",
       "44          6.133333  "
      ]
     },
     "execution_count": 25,
     "metadata": {},
     "output_type": "execute_result"
    }
   ],
   "source": [
    "Q70_travel"
   ]
  },
  {
   "cell_type": "code",
   "execution_count": 26,
   "metadata": {
    "collapsed": false
   },
   "outputs": [
    {
     "data": {
      "text/plain": [
       "<matplotlib.axes._subplots.AxesSubplot at 0x1a1ea68810>"
      ]
     },
     "execution_count": 26,
     "metadata": {},
     "output_type": "execute_result"
    },
    {
     "data": {
      "image/png": "[encoded data removed]",
      "text/plain": [
       "<Figure size 432x288 with 1 Axes>"
      ]
     },
     "metadata": {
      "needs_background": "light"
     },
     "output_type": "display_data"
    }
   ],
   "source": [
    "Q70_travel.plot.hist(x='Departure', y='travel_time_mins', bins=30)"
   ]
  },
  {
   "cell_type": "code",
   "execution_count": 27,
   "metadata": {
    "collapsed": false
   },
   "outputs": [
    {
     "data": {
      "text/plain": [
       "<matplotlib.axes._subplots.AxesSubplot at 0x1a1eb13090>"
      ]
     },
     "execution_count": 27,
     "metadata": {},
     "output_type": "execute_result"
    },
    {
     "data": {
      "image/png": "[encoded data removed]",
      "text/plain": [
       "<Figure size 432x288 with 1 Axes>"
      ]
     },
     "metadata": {
      "needs_background": "light"
     },
     "output_type": "display_data"
    }
   ],
   "source": [
    "M60_travel.plot.hist(x='travel_time_seconds', y='travel_time_mins', bins=10)"
   ]
  },
  {
   "cell_type": "code",
   "execution_count": 29,
   "metadata": {
    "collapsed": false
   },
   "outputs": [
    {
     "name": "stderr",
     "output_type": "stream",
     "text": [
      "/Users/mariumsultan/anaconda2/lib/python2.7/site-packages/ipykernel/__main__.py:1: FutureWarning: Method .as_matrix will be removed in a future version. Use .values instead.\n",
      "  if __name__ == '__main__':\n",
      "/Users/mariumsultan/anaconda2/lib/python2.7/site-packages/ipykernel/__main__.py:2: FutureWarning: Method .as_matrix will be removed in a future version. Use .values instead.\n",
      "  from ipykernel import kernelapp as app\n",
      "/Users/mariumsultan/anaconda2/lib/python2.7/site-packages/ipykernel/__main__.py:3: FutureWarning: Method .as_matrix will be removed in a future version. Use .values instead.\n",
      "  app.launch_new_instance()\n"
     ]
    }
   ],
   "source": [
    "matrix_Q70_travel = Q70_travel['travel_time_mins'].as_matrix()\n",
    "matrix_M60_travel = M60_travel['travel_time_mins'].as_matrix()\n",
    "matrix_M48_travel = Q48_travel['travel_time_mins'].as_matrix()\n"
   ]
  },
  {
   "cell_type": "code",
   "execution_count": 30,
   "metadata": {
    "collapsed": false
   },
   "outputs": [
    {
     "data": {
      "text/plain": [
       "[<matplotlib.lines.Line2D at 0x1a1ec806d0>]"
      ]
     },
     "execution_count": 30,
     "metadata": {},
     "output_type": "execute_result"
    },
    {
     "data": {
      "image/png": "[encoded data removed]",
      "text/plain": [
       "<Figure size 432x288 with 1 Axes>"
      ]
     },
     "metadata": {
      "needs_background": "light"
     },
     "output_type": "display_data"
    }
   ],
   "source": [
    "kde_Q70_travel = gaussian_kde(matrix_Q70_travel)\n",
    "kde_M60_travel = gaussian_kde(matrix_M60_travel)\n",
    "kde_M48_travel = gaussian_kde(matrix_M48_travel)\n",
    "\n",
    "dist_space_Q70_travel = linspace( min(matrix_Q70_travel), max(matrix_Q70_travel), 100)\n",
    "dist_space_M60_travel = linspace( min(matrix_M60_travel), max(matrix_M60_travel), 100)\n",
    "dist_space_M48_travel = linspace( min(matrix_M48_travel), max(matrix_M48_travel), 100)\n",
    "\n",
    "plt.plot( dist_space_Q70_travel, kde_Q70_travel(dist_space_Q70_travel) )\n",
    "plt.plot( dist_space_M60_travel, kde_M60_travel(dist_space_M60_travel) )\n",
    "plt.plot( dist_space_M48_travel, kde_M48_travel(dist_space_M48_travel) )\n"
   ]
  },
  {
   "cell_type": "markdown",
   "metadata": {},
   "source": [
    "## Models "
   ]
  },
  {
   "cell_type": "markdown",
   "metadata": {},
   "source": [
    "### Route 1a: Times Sq - 7 train to air train to LGA"
   ]
  },
  {
   "cell_type": "code",
   "execution_count": 37,
   "metadata": {
    "collapsed": false
   },
   "outputs": [
    {
     "data": {
      "text/html": [
       "<div>\n",
       "<style scoped>\n",
       "    .dataframe tbody tr th:only-of-type {\n",
       "        vertical-align: middle;\n",
       "    }\n",
       "\n",
       "    .dataframe tbody tr th {\n",
       "        vertical-align: top;\n",
       "    }\n",
       "\n",
       "    .dataframe thead th {\n",
       "        text-align: right;\n",
       "    }\n",
       "</style>\n",
       "<table border=\"1\" class=\"dataframe\">\n",
       "  <thead>\n",
       "    <tr style=\"text-align: right;\">\n",
       "      <th></th>\n",
       "      <th>total_time</th>\n",
       "    </tr>\n",
       "  </thead>\n",
       "  <tbody>\n",
       "    <tr>\n",
       "      <th>0</th>\n",
       "      <td>40.259597</td>\n",
       "    </tr>\n",
       "    <tr>\n",
       "      <th>1</th>\n",
       "      <td>40.781764</td>\n",
       "    </tr>\n",
       "    <tr>\n",
       "      <th>2</th>\n",
       "      <td>41.302207</td>\n",
       "    </tr>\n",
       "    <tr>\n",
       "      <th>3</th>\n",
       "      <td>39.071201</td>\n",
       "    </tr>\n",
       "    <tr>\n",
       "      <th>4</th>\n",
       "      <td>42.917976</td>\n",
       "    </tr>\n",
       "  </tbody>\n",
       "</table>\n",
       "</div>"
      ],
      "text/plain": [
       "   total_time\n",
       "0   40.259597\n",
       "1   40.781764\n",
       "2   41.302207\n",
       "3   39.071201\n",
       "4   42.917976"
      ]
     },
     "execution_count": 37,
     "metadata": {},
     "output_type": "execute_result"
    }
   ],
   "source": [
    "result = []\n",
    "\n",
    "for i in range(1000):\n",
    "    wait_7 = kde_7.resample(1)\n",
    "    #travel = np.random.normal(loc=31.0, scale=1.0, size=None)\n",
    "    travel_7 = 31\n",
    "    wait_air = np.random.randint(0,6)\n",
    "    travel_air = 6\n",
    "\n",
    "\n",
    "    total_time = wait_7 + travel_7 + wait_air + travel_air \n",
    "    \n",
    "    result.extend(total_time)\n",
    "\n",
    "result_1a = pd.DataFrame(columns=['total_time'], data=result)\n",
    "result_1a.head()"
   ]
  },
  {
   "cell_type": "code",
   "execution_count": 38,
   "metadata": {
    "collapsed": false
   },
   "outputs": [
    {
     "data": {
      "text/plain": [
       "(array([ 9., 21., 33., 41., 48., 58., 56., 64., 74., 73., 73., 65., 66.,\n",
       "        44., 53., 31., 30., 26., 23., 23., 17.,  8.,  7., 13.,  8.,  5.,\n",
       "         1.,  1.,  5.,  4.,  4.,  1.,  3.,  4.,  1.,  2.,  0.,  2.,  0.,\n",
       "         0.,  0.,  0.,  0.,  1.,  1.,  0.,  0.,  0.,  0.,  1.]),\n",
       " array([36.27456557, 36.80926323, 37.34396089, 37.87865855, 38.41335621,\n",
       "        38.94805387, 39.48275153, 40.01744919, 40.55214685, 41.08684451,\n",
       "        41.62154217, 42.15623983, 42.69093749, 43.22563515, 43.76033281,\n",
       "        44.29503047, 44.82972813, 45.36442579, 45.89912345, 46.43382111,\n",
       "        46.96851877, 47.50321643, 48.03791409, 48.57261175, 49.10730941,\n",
       "        49.64200707, 50.17670473, 50.7114024 , 51.24610006, 51.78079772,\n",
       "        52.31549538, 52.85019304, 53.3848907 , 53.91958836, 54.45428602,\n",
       "        54.98898368, 55.52368134, 56.058379  , 56.59307666, 57.12777432,\n",
       "        57.66247198, 58.19716964, 58.7318673 , 59.26656496, 59.80126262,\n",
       "        60.33596028, 60.87065794, 61.4053556 , 61.94005326, 62.47475092,\n",
       "        63.00944858]),\n",
       " <a list of 50 Patch objects>)"
      ]
     },
     "execution_count": 38,
     "metadata": {},
     "output_type": "execute_result"
    },
    {
     "data": {
      "image/png": "[encoded data removed]",
      "text/plain": [
       "<Figure size 432x288 with 1 Axes>"
      ]
     },
     "metadata": {
      "needs_background": "light"
     },
     "output_type": "display_data"
    }
   ],
   "source": [
    "plt.hist(result_1a['total_time'], color=\"b\",alpha=.8, bins=50)"
   ]
  },
  {
   "cell_type": "code",
   "execution_count": 39,
   "metadata": {
    "collapsed": false
   },
   "outputs": [
    {
     "data": {
      "text/html": [
       "<div>\n",
       "<style scoped>\n",
       "    .dataframe tbody tr th:only-of-type {\n",
       "        vertical-align: middle;\n",
       "    }\n",
       "\n",
       "    .dataframe tbody tr th {\n",
       "        vertical-align: top;\n",
       "    }\n",
       "\n",
       "    .dataframe thead th {\n",
       "        text-align: right;\n",
       "    }\n",
       "</style>\n",
       "<table border=\"1\" class=\"dataframe\">\n",
       "  <thead>\n",
       "    <tr style=\"text-align: right;\">\n",
       "      <th></th>\n",
       "      <th>total_time</th>\n",
       "    </tr>\n",
       "  </thead>\n",
       "  <tbody>\n",
       "    <tr>\n",
       "      <th>count</th>\n",
       "      <td>1000.000000</td>\n",
       "    </tr>\n",
       "    <tr>\n",
       "      <th>mean</th>\n",
       "      <td>42.317055</td>\n",
       "    </tr>\n",
       "    <tr>\n",
       "      <th>std</th>\n",
       "      <td>3.553857</td>\n",
       "    </tr>\n",
       "    <tr>\n",
       "      <th>min</th>\n",
       "      <td>36.274566</td>\n",
       "    </tr>\n",
       "    <tr>\n",
       "      <th>25%</th>\n",
       "      <td>39.839654</td>\n",
       "    </tr>\n",
       "    <tr>\n",
       "      <th>50%</th>\n",
       "      <td>41.763766</td>\n",
       "    </tr>\n",
       "    <tr>\n",
       "      <th>75%</th>\n",
       "      <td>43.994495</td>\n",
       "    </tr>\n",
       "    <tr>\n",
       "      <th>max</th>\n",
       "      <td>63.009449</td>\n",
       "    </tr>\n",
       "  </tbody>\n",
       "</table>\n",
       "</div>"
      ],
      "text/plain": [
       "        total_time\n",
       "count  1000.000000\n",
       "mean     42.317055\n",
       "std       3.553857\n",
       "min      36.274566\n",
       "25%      39.839654\n",
       "50%      41.763766\n",
       "75%      43.994495\n",
       "max      63.009449"
      ]
     },
     "execution_count": 39,
     "metadata": {},
     "output_type": "execute_result"
    }
   ],
   "source": [
    "result_1a.describe()"
   ]
  },
  {
   "cell_type": "markdown",
   "metadata": {},
   "source": [
    "### Route 1b: Times Sq - F train to Q70 to LGA"
   ]
  },
  {
   "cell_type": "code",
   "execution_count": 40,
   "metadata": {
    "collapsed": false
   },
   "outputs": [
    {
     "data": {
      "text/html": [
       "<div>\n",
       "<style scoped>\n",
       "    .dataframe tbody tr th:only-of-type {\n",
       "        vertical-align: middle;\n",
       "    }\n",
       "\n",
       "    .dataframe tbody tr th {\n",
       "        vertical-align: top;\n",
       "    }\n",
       "\n",
       "    .dataframe thead th {\n",
       "        text-align: right;\n",
       "    }\n",
       "</style>\n",
       "<table border=\"1\" class=\"dataframe\">\n",
       "  <thead>\n",
       "    <tr style=\"text-align: right;\">\n",
       "      <th></th>\n",
       "      <th>total_time</th>\n",
       "    </tr>\n",
       "  </thead>\n",
       "  <tbody>\n",
       "    <tr>\n",
       "      <th>0</th>\n",
       "      <td>37.176611</td>\n",
       "    </tr>\n",
       "    <tr>\n",
       "      <th>1</th>\n",
       "      <td>28.750618</td>\n",
       "    </tr>\n",
       "    <tr>\n",
       "      <th>2</th>\n",
       "      <td>42.161273</td>\n",
       "    </tr>\n",
       "    <tr>\n",
       "      <th>3</th>\n",
       "      <td>34.995374</td>\n",
       "    </tr>\n",
       "    <tr>\n",
       "      <th>4</th>\n",
       "      <td>40.618155</td>\n",
       "    </tr>\n",
       "  </tbody>\n",
       "</table>\n",
       "</div>"
      ],
      "text/plain": [
       "   total_time\n",
       "0   37.176611\n",
       "1   28.750618\n",
       "2   42.161273\n",
       "3   34.995374\n",
       "4   40.618155"
      ]
     },
     "execution_count": 40,
     "metadata": {},
     "output_type": "execute_result"
    }
   ],
   "source": [
    "result = []\n",
    "\n",
    "for i in range(1000):\n",
    "    wait_F = kde_F.resample(1)\n",
    "    #travel = np.random.normal(loc=31.0, scale=1.0, size=None)\n",
    "    travel_F = 21\n",
    "    wait_Q70 = kde_Q70.resample(1)\n",
    "    travel_Q70 = kde_Q70_travel.resample(1)\n",
    "\n",
    "\n",
    "    total_time = wait_F + travel_F + wait_Q70 + travel_Q70 \n",
    "    \n",
    "    result.extend(total_time)\n",
    "    \n",
    "result_1b = pd.DataFrame(columns=['total_time'], data=result)\n",
    "result_1b.head()"
   ]
  },
  {
   "cell_type": "code",
   "execution_count": 41,
   "metadata": {
    "collapsed": false
   },
   "outputs": [
    {
     "data": {
      "text/plain": [
       "(array([ 1.,  3.,  7.,  6., 11., 10., 27., 29., 40., 56., 65., 57., 77.,\n",
       "        82., 56., 60., 54., 45., 55., 41., 42., 38., 28., 25., 16., 13.,\n",
       "         9.,  9.,  0.,  3.,  1.,  1.,  2.,  2.,  3.,  2.,  3.,  4.,  1.,\n",
       "         2.,  1.,  1.,  1.,  3.,  3.,  1.,  0.,  2.,  1.,  1.]),\n",
       " array([23.2980339 , 24.77147211, 26.24491033, 27.71834855, 29.19178676,\n",
       "        30.66522498, 32.13866319, 33.61210141, 35.08553962, 36.55897784,\n",
       "        38.03241605, 39.50585427, 40.97929248, 42.4527307 , 43.92616892,\n",
       "        45.39960713, 46.87304535, 48.34648356, 49.81992178, 51.29335999,\n",
       "        52.76679821, 54.24023642, 55.71367464, 57.18711285, 58.66055107,\n",
       "        60.13398929, 61.6074275 , 63.08086572, 64.55430393, 66.02774215,\n",
       "        67.50118036, 68.97461858, 70.44805679, 71.92149501, 73.39493322,\n",
       "        74.86837144, 76.34180966, 77.81524787, 79.28868609, 80.7621243 ,\n",
       "        82.23556252, 83.70900073, 85.18243895, 86.65587716, 88.12931538,\n",
       "        89.60275359, 91.07619181, 92.54963003, 94.02306824, 95.49650646,\n",
       "        96.96994467]),\n",
       " <a list of 50 Patch objects>)"
      ]
     },
     "execution_count": 41,
     "metadata": {},
     "output_type": "execute_result"
    },
    {
     "data": {
      "image/png": "[encoded data removed]",
      "text/plain": [
       "<Figure size 432x288 with 1 Axes>"
      ]
     },
     "metadata": {
      "needs_background": "light"
     },
     "output_type": "display_data"
    }
   ],
   "source": [
    "plt.hist(result_1b['total_time'], color=\"b\",alpha=.8, bins=50)"
   ]
  },
  {
   "cell_type": "code",
   "execution_count": 42,
   "metadata": {
    "collapsed": false
   },
   "outputs": [
    {
     "data": {
      "text/html": [
       "<div>\n",
       "<style scoped>\n",
       "    .dataframe tbody tr th:only-of-type {\n",
       "        vertical-align: middle;\n",
       "    }\n",
       "\n",
       "    .dataframe tbody tr th {\n",
       "        vertical-align: top;\n",
       "    }\n",
       "\n",
       "    .dataframe thead th {\n",
       "        text-align: right;\n",
       "    }\n",
       "</style>\n",
       "<table border=\"1\" class=\"dataframe\">\n",
       "  <thead>\n",
       "    <tr style=\"text-align: right;\">\n",
       "      <th></th>\n",
       "      <th>total_time</th>\n",
       "    </tr>\n",
       "  </thead>\n",
       "  <tbody>\n",
       "    <tr>\n",
       "      <th>count</th>\n",
       "      <td>1000.000000</td>\n",
       "    </tr>\n",
       "    <tr>\n",
       "      <th>mean</th>\n",
       "      <td>46.307729</td>\n",
       "    </tr>\n",
       "    <tr>\n",
       "      <th>std</th>\n",
       "      <td>10.399204</td>\n",
       "    </tr>\n",
       "    <tr>\n",
       "      <th>min</th>\n",
       "      <td>23.298034</td>\n",
       "    </tr>\n",
       "    <tr>\n",
       "      <th>25%</th>\n",
       "      <td>39.410677</td>\n",
       "    </tr>\n",
       "    <tr>\n",
       "      <th>50%</th>\n",
       "      <td>44.537893</td>\n",
       "    </tr>\n",
       "    <tr>\n",
       "      <th>75%</th>\n",
       "      <td>51.581789</td>\n",
       "    </tr>\n",
       "    <tr>\n",
       "      <th>max</th>\n",
       "      <td>96.969945</td>\n",
       "    </tr>\n",
       "  </tbody>\n",
       "</table>\n",
       "</div>"
      ],
      "text/plain": [
       "        total_time\n",
       "count  1000.000000\n",
       "mean     46.307729\n",
       "std      10.399204\n",
       "min      23.298034\n",
       "25%      39.410677\n",
       "50%      44.537893\n",
       "75%      51.581789\n",
       "max      96.969945"
      ]
     },
     "execution_count": 42,
     "metadata": {},
     "output_type": "execute_result"
    }
   ],
   "source": [
    "result_1b.describe()"
   ]
  },
  {
   "cell_type": "markdown",
   "metadata": {},
   "source": [
    "### Route 2a: Flushing - 7 train to air train to LGA"
   ]
  },
  {
   "cell_type": "code",
   "execution_count": 43,
   "metadata": {
    "collapsed": false
   },
   "outputs": [
    {
     "data": {
      "text/html": [
       "<div>\n",
       "<style scoped>\n",
       "    .dataframe tbody tr th:only-of-type {\n",
       "        vertical-align: middle;\n",
       "    }\n",
       "\n",
       "    .dataframe tbody tr th {\n",
       "        vertical-align: top;\n",
       "    }\n",
       "\n",
       "    .dataframe thead th {\n",
       "        text-align: right;\n",
       "    }\n",
       "</style>\n",
       "<table border=\"1\" class=\"dataframe\">\n",
       "  <thead>\n",
       "    <tr style=\"text-align: right;\">\n",
       "      <th></th>\n",
       "      <th>total_time</th>\n",
       "    </tr>\n",
       "  </thead>\n",
       "  <tbody>\n",
       "    <tr>\n",
       "      <th>0</th>\n",
       "      <td>8.843827</td>\n",
       "    </tr>\n",
       "    <tr>\n",
       "      <th>1</th>\n",
       "      <td>15.216514</td>\n",
       "    </tr>\n",
       "    <tr>\n",
       "      <th>2</th>\n",
       "      <td>11.677183</td>\n",
       "    </tr>\n",
       "    <tr>\n",
       "      <th>3</th>\n",
       "      <td>24.466663</td>\n",
       "    </tr>\n",
       "    <tr>\n",
       "      <th>4</th>\n",
       "      <td>22.782819</td>\n",
       "    </tr>\n",
       "  </tbody>\n",
       "</table>\n",
       "</div>"
      ],
      "text/plain": [
       "   total_time\n",
       "0    8.843827\n",
       "1   15.216514\n",
       "2   11.677183\n",
       "3   24.466663\n",
       "4   22.782819"
      ]
     },
     "execution_count": 43,
     "metadata": {},
     "output_type": "execute_result"
    }
   ],
   "source": [
    "result = []\n",
    "\n",
    "for i in range(1000):\n",
    "    wait_7 = kde_7.resample(1)\n",
    "    #travel = np.random.normal(loc=31.0, scale=1.0, size=None)\n",
    "    travel_7 = 3\n",
    "    wait_air = np.random.randint(0,6)\n",
    "    travel_air = 6\n",
    "\n",
    "\n",
    "    total_time = wait_7 + travel_7 + wait_air + travel_air \n",
    "    \n",
    "    result.extend(total_time)\n",
    "    \n",
    "result_2a = pd.DataFrame(columns=['total_time'], data=result)\n",
    "result_2a.head()"
   ]
  },
  {
   "cell_type": "code",
   "execution_count": 44,
   "metadata": {
    "collapsed": false
   },
   "outputs": [
    {
     "data": {
      "text/plain": [
       "(array([ 1.,  8., 28., 29., 45., 55., 49., 68., 79., 84., 73., 77., 69.,\n",
       "        59., 34., 33., 33., 25., 28., 18., 12., 17., 16., 16.,  7.,  5.,\n",
       "         9.,  7.,  2.,  2.,  5.,  1.,  0.,  1.,  0.,  0.,  0.,  1.,  0.,\n",
       "         0.,  0.,  1.,  0.,  0.,  0.,  1.,  0.,  0.,  0.,  2.]),\n",
       " array([ 7.40893888,  7.9748769 ,  8.54081491,  9.10675293,  9.67269094,\n",
       "        10.23862896, 10.80456697, 11.37050499, 11.936443  , 12.50238102,\n",
       "        13.06831903, 13.63425705, 14.20019506, 14.76613308, 15.3320711 ,\n",
       "        15.89800911, 16.46394713, 17.02988514, 17.59582316, 18.16176117,\n",
       "        18.72769919, 19.2936372 , 19.85957522, 20.42551323, 20.99145125,\n",
       "        21.55738926, 22.12332728, 22.68926529, 23.25520331, 23.82114133,\n",
       "        24.38707934, 24.95301736, 25.51895537, 26.08489339, 26.6508314 ,\n",
       "        27.21676942, 27.78270743, 28.34864545, 28.91458346, 29.48052148,\n",
       "        30.04645949, 30.61239751, 31.17833553, 31.74427354, 32.31021156,\n",
       "        32.87614957, 33.44208759, 34.0080256 , 34.57396362, 35.13990163,\n",
       "        35.70583965]),\n",
       " <a list of 50 Patch objects>)"
      ]
     },
     "execution_count": 44,
     "metadata": {},
     "output_type": "execute_result"
    },
    {
     "data": {
      "image/png": "[encoded data removed]",
      "text/plain": [
       "<Figure size 432x288 with 1 Axes>"
      ]
     },
     "metadata": {
      "needs_background": "light"
     },
     "output_type": "display_data"
    }
   ],
   "source": [
    "plt.hist(result_2a['total_time'], color=\"b\",alpha=.8, bins=50)"
   ]
  },
  {
   "cell_type": "code",
   "execution_count": 45,
   "metadata": {
    "collapsed": false
   },
   "outputs": [
    {
     "data": {
      "text/html": [
       "<div>\n",
       "<style scoped>\n",
       "    .dataframe tbody tr th:only-of-type {\n",
       "        vertical-align: middle;\n",
       "    }\n",
       "\n",
       "    .dataframe tbody tr th {\n",
       "        vertical-align: top;\n",
       "    }\n",
       "\n",
       "    .dataframe thead th {\n",
       "        text-align: right;\n",
       "    }\n",
       "</style>\n",
       "<table border=\"1\" class=\"dataframe\">\n",
       "  <thead>\n",
       "    <tr style=\"text-align: right;\">\n",
       "      <th></th>\n",
       "      <th>total_time</th>\n",
       "    </tr>\n",
       "  </thead>\n",
       "  <tbody>\n",
       "    <tr>\n",
       "      <th>count</th>\n",
       "      <td>1000.000000</td>\n",
       "    </tr>\n",
       "    <tr>\n",
       "      <th>mean</th>\n",
       "      <td>14.081349</td>\n",
       "    </tr>\n",
       "    <tr>\n",
       "      <th>std</th>\n",
       "      <td>3.595563</td>\n",
       "    </tr>\n",
       "    <tr>\n",
       "      <th>min</th>\n",
       "      <td>7.408939</td>\n",
       "    </tr>\n",
       "    <tr>\n",
       "      <th>25%</th>\n",
       "      <td>11.712940</td>\n",
       "    </tr>\n",
       "    <tr>\n",
       "      <th>50%</th>\n",
       "      <td>13.485538</td>\n",
       "    </tr>\n",
       "    <tr>\n",
       "      <th>75%</th>\n",
       "      <td>15.802620</td>\n",
       "    </tr>\n",
       "    <tr>\n",
       "      <th>max</th>\n",
       "      <td>35.705840</td>\n",
       "    </tr>\n",
       "  </tbody>\n",
       "</table>\n",
       "</div>"
      ],
      "text/plain": [
       "        total_time\n",
       "count  1000.000000\n",
       "mean     14.081349\n",
       "std       3.595563\n",
       "min       7.408939\n",
       "25%      11.712940\n",
       "50%      13.485538\n",
       "75%      15.802620\n",
       "max      35.705840"
      ]
     },
     "execution_count": 45,
     "metadata": {},
     "output_type": "execute_result"
    }
   ],
   "source": [
    "result_2a.describe()"
   ]
  },
  {
   "cell_type": "markdown",
   "metadata": {},
   "source": [
    "### Route 2b: Flushing - 7 train to Q70 to LGA"
   ]
  },
  {
   "cell_type": "code",
   "execution_count": 46,
   "metadata": {
    "collapsed": false
   },
   "outputs": [
    {
     "data": {
      "text/html": [
       "<div>\n",
       "<style scoped>\n",
       "    .dataframe tbody tr th:only-of-type {\n",
       "        vertical-align: middle;\n",
       "    }\n",
       "\n",
       "    .dataframe tbody tr th {\n",
       "        vertical-align: top;\n",
       "    }\n",
       "\n",
       "    .dataframe thead th {\n",
       "        text-align: right;\n",
       "    }\n",
       "</style>\n",
       "<table border=\"1\" class=\"dataframe\">\n",
       "  <thead>\n",
       "    <tr style=\"text-align: right;\">\n",
       "      <th></th>\n",
       "      <th>total_time</th>\n",
       "    </tr>\n",
       "  </thead>\n",
       "  <tbody>\n",
       "    <tr>\n",
       "      <th>0</th>\n",
       "      <td>37.124049</td>\n",
       "    </tr>\n",
       "    <tr>\n",
       "      <th>1</th>\n",
       "      <td>31.238990</td>\n",
       "    </tr>\n",
       "    <tr>\n",
       "      <th>2</th>\n",
       "      <td>21.040985</td>\n",
       "    </tr>\n",
       "    <tr>\n",
       "      <th>3</th>\n",
       "      <td>24.447525</td>\n",
       "    </tr>\n",
       "    <tr>\n",
       "      <th>4</th>\n",
       "      <td>77.925968</td>\n",
       "    </tr>\n",
       "  </tbody>\n",
       "</table>\n",
       "</div>"
      ],
      "text/plain": [
       "   total_time\n",
       "0   37.124049\n",
       "1   31.238990\n",
       "2   21.040985\n",
       "3   24.447525\n",
       "4   77.925968"
      ]
     },
     "execution_count": 46,
     "metadata": {},
     "output_type": "execute_result"
    }
   ],
   "source": [
    "result = []\n",
    "\n",
    "for i in range(1000):\n",
    "    wait_7 = kde_7.resample(1)\n",
    "    #travel = np.random.normal(loc=31.0, scale=1.0, size=None)\n",
    "    travel_7 = 10\n",
    "    wait_Q70 = kde_Q70.resample(1)\n",
    "    travel_Q70 = kde_Q70_travel.resample(1)\n",
    "\n",
    "\n",
    "    total_time = wait_7 + travel_7 + wait_Q70 + travel_Q70 \n",
    "    \n",
    "    result.extend(total_time)\n",
    "\n",
    "result_2b = pd.DataFrame(columns=['total_time'], data=result)\n",
    "result_2b.head()"
   ]
  },
  {
   "cell_type": "code",
   "execution_count": 47,
   "metadata": {
    "collapsed": false
   },
   "outputs": [
    {
     "data": {
      "text/plain": [
       "(array([ 2.,  2.,  6., 11., 13., 18., 22., 34., 30., 46., 50., 57., 84.,\n",
       "        62., 62., 69., 73., 64., 49., 51., 42., 27., 24., 19., 13., 13.,\n",
       "         5.,  4.,  4.,  5.,  3.,  2.,  1.,  1.,  0.,  2.,  0.,  3.,  4.,\n",
       "         1.,  5.,  3.,  2.,  2.,  0.,  3.,  1.,  3.,  0.,  3.]),\n",
       " array([12.33872439, 13.79214858, 15.24557278, 16.69899698, 18.15242118,\n",
       "        19.60584538, 21.05926958, 22.51269378, 23.96611798, 25.41954218,\n",
       "        26.87296637, 28.32639057, 29.77981477, 31.23323897, 32.68666317,\n",
       "        34.14008737, 35.59351157, 37.04693577, 38.50035997, 39.95378417,\n",
       "        41.40720836, 42.86063256, 44.31405676, 45.76748096, 47.22090516,\n",
       "        48.67432936, 50.12775356, 51.58117776, 53.03460196, 54.48802615,\n",
       "        55.94145035, 57.39487455, 58.84829875, 60.30172295, 61.75514715,\n",
       "        63.20857135, 64.66199555, 66.11541975, 67.56884395, 69.02226814,\n",
       "        70.47569234, 71.92911654, 73.38254074, 74.83596494, 76.28938914,\n",
       "        77.74281334, 79.19623754, 80.64966174, 82.10308594, 83.55651013,\n",
       "        85.00993433]),\n",
       " <a list of 50 Patch objects>)"
      ]
     },
     "execution_count": 47,
     "metadata": {},
     "output_type": "execute_result"
    },
    {
     "data": {
      "image/png": "[encoded data removed]",
      "text/plain": [
       "<Figure size 432x288 with 1 Axes>"
      ]
     },
     "metadata": {
      "needs_background": "light"
     },
     "output_type": "display_data"
    }
   ],
   "source": [
    "plt.hist(result_2b['total_time'], color=\"b\",alpha=.8, bins=50)"
   ]
  },
  {
   "cell_type": "code",
   "execution_count": 48,
   "metadata": {
    "collapsed": false
   },
   "outputs": [
    {
     "data": {
      "text/html": [
       "<div>\n",
       "<style scoped>\n",
       "    .dataframe tbody tr th:only-of-type {\n",
       "        vertical-align: middle;\n",
       "    }\n",
       "\n",
       "    .dataframe tbody tr th {\n",
       "        vertical-align: top;\n",
       "    }\n",
       "\n",
       "    .dataframe thead th {\n",
       "        text-align: right;\n",
       "    }\n",
       "</style>\n",
       "<table border=\"1\" class=\"dataframe\">\n",
       "  <thead>\n",
       "    <tr style=\"text-align: right;\">\n",
       "      <th></th>\n",
       "      <th>total_time</th>\n",
       "    </tr>\n",
       "  </thead>\n",
       "  <tbody>\n",
       "    <tr>\n",
       "      <th>count</th>\n",
       "      <td>1000.000000</td>\n",
       "    </tr>\n",
       "    <tr>\n",
       "      <th>mean</th>\n",
       "      <td>35.212246</td>\n",
       "    </tr>\n",
       "    <tr>\n",
       "      <th>std</th>\n",
       "      <td>10.601064</td>\n",
       "    </tr>\n",
       "    <tr>\n",
       "      <th>min</th>\n",
       "      <td>12.338724</td>\n",
       "    </tr>\n",
       "    <tr>\n",
       "      <th>25%</th>\n",
       "      <td>28.721226</td>\n",
       "    </tr>\n",
       "    <tr>\n",
       "      <th>50%</th>\n",
       "      <td>34.146471</td>\n",
       "    </tr>\n",
       "    <tr>\n",
       "      <th>75%</th>\n",
       "      <td>39.930714</td>\n",
       "    </tr>\n",
       "    <tr>\n",
       "      <th>max</th>\n",
       "      <td>85.009934</td>\n",
       "    </tr>\n",
       "  </tbody>\n",
       "</table>\n",
       "</div>"
      ],
      "text/plain": [
       "        total_time\n",
       "count  1000.000000\n",
       "mean     35.212246\n",
       "std      10.601064\n",
       "min      12.338724\n",
       "25%      28.721226\n",
       "50%      34.146471\n",
       "75%      39.930714\n",
       "max      85.009934"
      ]
     },
     "execution_count": 48,
     "metadata": {},
     "output_type": "execute_result"
    }
   ],
   "source": [
    "result_2b.describe()"
   ]
  },
  {
   "cell_type": "markdown",
   "metadata": {},
   "source": [
    "### Route 3a: Harlem 125th - 5 train to 7 train to air train to LGA"
   ]
  },
  {
   "cell_type": "code",
   "execution_count": 49,
   "metadata": {
    "collapsed": false
   },
   "outputs": [
    {
     "data": {
      "text/html": [
       "<div>\n",
       "<style scoped>\n",
       "    .dataframe tbody tr th:only-of-type {\n",
       "        vertical-align: middle;\n",
       "    }\n",
       "\n",
       "    .dataframe tbody tr th {\n",
       "        vertical-align: top;\n",
       "    }\n",
       "\n",
       "    .dataframe thead th {\n",
       "        text-align: right;\n",
       "    }\n",
       "</style>\n",
       "<table border=\"1\" class=\"dataframe\">\n",
       "  <thead>\n",
       "    <tr style=\"text-align: right;\">\n",
       "      <th></th>\n",
       "      <th>total_time</th>\n",
       "    </tr>\n",
       "  </thead>\n",
       "  <tbody>\n",
       "    <tr>\n",
       "      <th>0</th>\n",
       "      <td>59.504286</td>\n",
       "    </tr>\n",
       "    <tr>\n",
       "      <th>1</th>\n",
       "      <td>58.185121</td>\n",
       "    </tr>\n",
       "    <tr>\n",
       "      <th>2</th>\n",
       "      <td>54.390357</td>\n",
       "    </tr>\n",
       "    <tr>\n",
       "      <th>3</th>\n",
       "      <td>105.627100</td>\n",
       "    </tr>\n",
       "    <tr>\n",
       "      <th>4</th>\n",
       "      <td>91.521511</td>\n",
       "    </tr>\n",
       "  </tbody>\n",
       "</table>\n",
       "</div>"
      ],
      "text/plain": [
       "   total_time\n",
       "0   59.504286\n",
       "1   58.185121\n",
       "2   54.390357\n",
       "3  105.627100\n",
       "4   91.521511"
      ]
     },
     "execution_count": 49,
     "metadata": {},
     "output_type": "execute_result"
    }
   ],
   "source": [
    "result = []\n",
    "\n",
    "for i in range(1000):\n",
    "    wait_5 = kde_5.resample(1)\n",
    "    #travel = np.random.normal(loc=31.0, scale=1.0, size=None)\n",
    "    travel_5 = 11\n",
    "    wait_7 = kde_7.resample(1)\n",
    "    travel_7 = 25\n",
    "    wait_air = np.random.randint(0,6)\n",
    "    travel_air = 6\n",
    "\n",
    "\n",
    "\n",
    "    total_time = wait_5 + travel_5 + wait_7 + travel_7 + wait_air + travel_air \n",
    "    \n",
    "    result.extend(total_time)\n",
    "\n",
    "result_3a = pd.DataFrame(columns=['total_time'], data=result)\n",
    "result_3a.head()"
   ]
  },
  {
   "cell_type": "code",
   "execution_count": 50,
   "metadata": {
    "collapsed": false
   },
   "outputs": [
    {
     "data": {
      "text/plain": [
       "(array([  7.,  12.,  26.,  53.,  65., 115., 111., 102.,  91.,  88.,  64.,\n",
       "         47.,  34.,  34.,  28.,  21.,  25.,   7.,   5.,   7.,   4.,   3.,\n",
       "          0.,   5.,   5.,   1.,   2.,   3.,   0.,   1.,   8.,   1.,   6.,\n",
       "          3.,   0.,   2.,   0.,   0.,   2.,   2.,   0.,   0.,   2.,   2.,\n",
       "          1.,   1.,   0.,   0.,   2.,   2.]),\n",
       " array([ 38.27410287,  40.41895208,  42.5638013 ,  44.70865052,\n",
       "         46.85349973,  48.99834895,  51.14319817,  53.28804738,\n",
       "         55.4328966 ,  57.57774582,  59.72259503,  61.86744425,\n",
       "         64.01229347,  66.15714268,  68.3019919 ,  70.44684112,\n",
       "         72.59169033,  74.73653955,  76.88138877,  79.02623798,\n",
       "         81.1710872 ,  83.31593642,  85.46078563,  87.60563485,\n",
       "         89.75048407,  91.89533328,  94.0401825 ,  96.18503172,\n",
       "         98.32988094, 100.47473015, 102.61957937, 104.76442859,\n",
       "        106.9092778 , 109.05412702, 111.19897624, 113.34382545,\n",
       "        115.48867467, 117.63352389, 119.7783731 , 121.92322232,\n",
       "        124.06807154, 126.21292075, 128.35776997, 130.50261919,\n",
       "        132.6474684 , 134.79231762, 136.93716684, 139.08201605,\n",
       "        141.22686527, 143.37171449, 145.5165637 ]),\n",
       " <a list of 50 Patch objects>)"
      ]
     },
     "execution_count": 50,
     "metadata": {},
     "output_type": "execute_result"
    },
    {
     "data": {
      "image/png": "[encoded data removed]",
      "text/plain": [
       "<Figure size 432x288 with 1 Axes>"
      ]
     },
     "metadata": {
      "needs_background": "light"
     },
     "output_type": "display_data"
    }
   ],
   "source": [
    "plt.hist(result_3a['total_time'], color=\"b\",alpha=.8, bins=50)"
   ]
  },
  {
   "cell_type": "code",
   "execution_count": 51,
   "metadata": {
    "collapsed": false
   },
   "outputs": [
    {
     "data": {
      "text/html": [
       "<div>\n",
       "<style scoped>\n",
       "    .dataframe tbody tr th:only-of-type {\n",
       "        vertical-align: middle;\n",
       "    }\n",
       "\n",
       "    .dataframe tbody tr th {\n",
       "        vertical-align: top;\n",
       "    }\n",
       "\n",
       "    .dataframe thead th {\n",
       "        text-align: right;\n",
       "    }\n",
       "</style>\n",
       "<table border=\"1\" class=\"dataframe\">\n",
       "  <thead>\n",
       "    <tr style=\"text-align: right;\">\n",
       "      <th></th>\n",
       "      <th>total_time</th>\n",
       "    </tr>\n",
       "  </thead>\n",
       "  <tbody>\n",
       "    <tr>\n",
       "      <th>count</th>\n",
       "      <td>1000.000000</td>\n",
       "    </tr>\n",
       "    <tr>\n",
       "      <th>mean</th>\n",
       "      <td>59.108277</td>\n",
       "    </tr>\n",
       "    <tr>\n",
       "      <th>std</th>\n",
       "      <td>14.720235</td>\n",
       "    </tr>\n",
       "    <tr>\n",
       "      <th>min</th>\n",
       "      <td>38.274103</td>\n",
       "    </tr>\n",
       "    <tr>\n",
       "      <th>25%</th>\n",
       "      <td>50.622415</td>\n",
       "    </tr>\n",
       "    <tr>\n",
       "      <th>50%</th>\n",
       "      <td>55.564240</td>\n",
       "    </tr>\n",
       "    <tr>\n",
       "      <th>75%</th>\n",
       "      <td>62.499397</td>\n",
       "    </tr>\n",
       "    <tr>\n",
       "      <th>max</th>\n",
       "      <td>145.516564</td>\n",
       "    </tr>\n",
       "  </tbody>\n",
       "</table>\n",
       "</div>"
      ],
      "text/plain": [
       "        total_time\n",
       "count  1000.000000\n",
       "mean     59.108277\n",
       "std      14.720235\n",
       "min      38.274103\n",
       "25%      50.622415\n",
       "50%      55.564240\n",
       "75%      62.499397\n",
       "max     145.516564"
      ]
     },
     "execution_count": 51,
     "metadata": {},
     "output_type": "execute_result"
    }
   ],
   "source": [
    "result_3a.describe()"
   ]
  },
  {
   "cell_type": "markdown",
   "metadata": {},
   "source": [
    "### Route 3b: Harlem 125th - M60 to LGA"
   ]
  },
  {
   "cell_type": "code",
   "execution_count": 52,
   "metadata": {
    "collapsed": false
   },
   "outputs": [
    {
     "data": {
      "text/html": [
       "<div>\n",
       "<style scoped>\n",
       "    .dataframe tbody tr th:only-of-type {\n",
       "        vertical-align: middle;\n",
       "    }\n",
       "\n",
       "    .dataframe tbody tr th {\n",
       "        vertical-align: top;\n",
       "    }\n",
       "\n",
       "    .dataframe thead th {\n",
       "        text-align: right;\n",
       "    }\n",
       "</style>\n",
       "<table border=\"1\" class=\"dataframe\">\n",
       "  <thead>\n",
       "    <tr style=\"text-align: right;\">\n",
       "      <th></th>\n",
       "      <th>total_time</th>\n",
       "    </tr>\n",
       "  </thead>\n",
       "  <tbody>\n",
       "    <tr>\n",
       "      <th>0</th>\n",
       "      <td>41.171644</td>\n",
       "    </tr>\n",
       "    <tr>\n",
       "      <th>1</th>\n",
       "      <td>42.384155</td>\n",
       "    </tr>\n",
       "    <tr>\n",
       "      <th>2</th>\n",
       "      <td>37.563770</td>\n",
       "    </tr>\n",
       "    <tr>\n",
       "      <th>3</th>\n",
       "      <td>53.233462</td>\n",
       "    </tr>\n",
       "    <tr>\n",
       "      <th>4</th>\n",
       "      <td>41.634494</td>\n",
       "    </tr>\n",
       "  </tbody>\n",
       "</table>\n",
       "</div>"
      ],
      "text/plain": [
       "   total_time\n",
       "0   41.171644\n",
       "1   42.384155\n",
       "2   37.563770\n",
       "3   53.233462\n",
       "4   41.634494"
      ]
     },
     "execution_count": 52,
     "metadata": {},
     "output_type": "execute_result"
    }
   ],
   "source": [
    "result = []\n",
    "\n",
    "for i in range(1000):\n",
    "    wait_M60 = kde_M60.resample(1)\n",
    "    travel_M60 = 39\n",
    "\n",
    "    total_time = wait_M60 + travel_M60\n",
    "    \n",
    "    result.extend(total_time)\n",
    "\n",
    "result_3b = pd.DataFrame(columns=['total_time'], data=result)\n",
    "result_3b.head()"
   ]
  },
  {
   "cell_type": "code",
   "execution_count": 53,
   "metadata": {
    "collapsed": false
   },
   "outputs": [
    {
     "data": {
      "text/plain": [
       "(array([ 4.,  9., 10., 18., 23., 28., 43., 41., 42., 62., 61., 59., 64.,\n",
       "        48., 48., 32., 36., 34., 38., 26., 31., 27., 23., 21., 15., 19.,\n",
       "        16., 10.,  9.,  9.,  4.,  5.,  3.,  8.,  8.,  7.,  2., 11., 13.,\n",
       "         6., 10.,  2.,  3.,  4.,  3.,  1.,  2.,  1.,  0.,  1.]),\n",
       " array([32.99041224, 33.83559654, 34.68078085, 35.52596515, 36.37114946,\n",
       "        37.21633376, 38.06151807, 38.90670237, 39.75188668, 40.59707098,\n",
       "        41.44225529, 42.28743959, 43.1326239 , 43.9778082 , 44.82299251,\n",
       "        45.66817681, 46.51336112, 47.35854542, 48.20372973, 49.04891403,\n",
       "        49.89409834, 50.73928264, 51.58446695, 52.42965126, 53.27483556,\n",
       "        54.12001987, 54.96520417, 55.81038848, 56.65557278, 57.50075709,\n",
       "        58.34594139, 59.1911257 , 60.03631   , 60.88149431, 61.72667861,\n",
       "        62.57186292, 63.41704722, 64.26223153, 65.10741583, 65.95260014,\n",
       "        66.79778444, 67.64296875, 68.48815305, 69.33333736, 70.17852166,\n",
       "        71.02370597, 71.86889027, 72.71407458, 73.55925888, 74.40444319,\n",
       "        75.24962749]),\n",
       " <a list of 50 Patch objects>)"
      ]
     },
     "execution_count": 53,
     "metadata": {},
     "output_type": "execute_result"
    },
    {
     "data": {
      "image/png": "[encoded data removed]",
      "text/plain": [
       "<Figure size 432x288 with 1 Axes>"
      ]
     },
     "metadata": {
      "needs_background": "light"
     },
     "output_type": "display_data"
    }
   ],
   "source": [
    "plt.hist(result_3b['total_time'], color=\"b\",alpha=.8, bins=50)"
   ]
  },
  {
   "cell_type": "code",
   "execution_count": 54,
   "metadata": {
    "collapsed": false
   },
   "outputs": [
    {
     "data": {
      "text/html": [
       "<div>\n",
       "<style scoped>\n",
       "    .dataframe tbody tr th:only-of-type {\n",
       "        vertical-align: middle;\n",
       "    }\n",
       "\n",
       "    .dataframe tbody tr th {\n",
       "        vertical-align: top;\n",
       "    }\n",
       "\n",
       "    .dataframe thead th {\n",
       "        text-align: right;\n",
       "    }\n",
       "</style>\n",
       "<table border=\"1\" class=\"dataframe\">\n",
       "  <thead>\n",
       "    <tr style=\"text-align: right;\">\n",
       "      <th></th>\n",
       "      <th>total_time</th>\n",
       "    </tr>\n",
       "  </thead>\n",
       "  <tbody>\n",
       "    <tr>\n",
       "      <th>count</th>\n",
       "      <td>1000.000000</td>\n",
       "    </tr>\n",
       "    <tr>\n",
       "      <th>mean</th>\n",
       "      <td>46.601410</td>\n",
       "    </tr>\n",
       "    <tr>\n",
       "      <th>std</th>\n",
       "      <td>7.978256</td>\n",
       "    </tr>\n",
       "    <tr>\n",
       "      <th>min</th>\n",
       "      <td>32.990412</td>\n",
       "    </tr>\n",
       "    <tr>\n",
       "      <th>25%</th>\n",
       "      <td>41.117873</td>\n",
       "    </tr>\n",
       "    <tr>\n",
       "      <th>50%</th>\n",
       "      <td>44.535788</td>\n",
       "    </tr>\n",
       "    <tr>\n",
       "      <th>75%</th>\n",
       "      <td>50.380310</td>\n",
       "    </tr>\n",
       "    <tr>\n",
       "      <th>max</th>\n",
       "      <td>75.249627</td>\n",
       "    </tr>\n",
       "  </tbody>\n",
       "</table>\n",
       "</div>"
      ],
      "text/plain": [
       "        total_time\n",
       "count  1000.000000\n",
       "mean     46.601410\n",
       "std       7.978256\n",
       "min      32.990412\n",
       "25%      41.117873\n",
       "50%      44.535788\n",
       "75%      50.380310\n",
       "max      75.249627"
      ]
     },
     "execution_count": 54,
     "metadata": {},
     "output_type": "execute_result"
    }
   ],
   "source": [
    "result_3b.describe()"
   ]
  },
  {
   "cell_type": "markdown",
   "metadata": {},
   "source": [
    "### Route 4a: Barclays Center - G train to 7 train to air train to LGA"
   ]
  },
  {
   "cell_type": "code",
   "execution_count": 55,
   "metadata": {
    "collapsed": false
   },
   "outputs": [
    {
     "data": {
      "text/html": [
       "<div>\n",
       "<style scoped>\n",
       "    .dataframe tbody tr th:only-of-type {\n",
       "        vertical-align: middle;\n",
       "    }\n",
       "\n",
       "    .dataframe tbody tr th {\n",
       "        vertical-align: top;\n",
       "    }\n",
       "\n",
       "    .dataframe thead th {\n",
       "        text-align: right;\n",
       "    }\n",
       "</style>\n",
       "<table border=\"1\" class=\"dataframe\">\n",
       "  <thead>\n",
       "    <tr style=\"text-align: right;\">\n",
       "      <th></th>\n",
       "      <th>total_time</th>\n",
       "    </tr>\n",
       "  </thead>\n",
       "  <tbody>\n",
       "    <tr>\n",
       "      <th>0</th>\n",
       "      <td>51.710806</td>\n",
       "    </tr>\n",
       "    <tr>\n",
       "      <th>1</th>\n",
       "      <td>48.668866</td>\n",
       "    </tr>\n",
       "    <tr>\n",
       "      <th>2</th>\n",
       "      <td>47.563169</td>\n",
       "    </tr>\n",
       "    <tr>\n",
       "      <th>3</th>\n",
       "      <td>44.538280</td>\n",
       "    </tr>\n",
       "    <tr>\n",
       "      <th>4</th>\n",
       "      <td>47.761942</td>\n",
       "    </tr>\n",
       "  </tbody>\n",
       "</table>\n",
       "</div>"
      ],
      "text/plain": [
       "   total_time\n",
       "0   51.710806\n",
       "1   48.668866\n",
       "2   47.563169\n",
       "3   44.538280\n",
       "4   47.761942"
      ]
     },
     "execution_count": 55,
     "metadata": {},
     "output_type": "execute_result"
    }
   ],
   "source": [
    "result = []\n",
    "\n",
    "for i in range(1000):\n",
    "    wait_G = kde_G.resample(1)\n",
    "    travel_G = 18\n",
    "    wait_7 = kde_7.resample(1)\n",
    "    travel_7 = 15\n",
    "    wait_air = np.random.randint(0,6)\n",
    "    travel_air = 6\n",
    "\n",
    "    total_time = wait_G + travel_G + wait_7 + travel_7 + wait_air + travel_air \n",
    "    \n",
    "    result.extend(total_time)\n",
    "\n",
    "result_4a = pd.DataFrame(columns=['total_time'], data=result)\n",
    "result_4a.head()"
   ]
  },
  {
   "cell_type": "code",
   "execution_count": 56,
   "metadata": {
    "collapsed": false
   },
   "outputs": [
    {
     "data": {
      "text/plain": [
       "(array([ 1.,  0.,  0.,  3., 11., 17., 20., 23., 26., 47., 46., 57., 58.,\n",
       "        59., 59., 54., 46., 55., 45., 48., 47., 38., 40., 31., 26., 20.,\n",
       "        15., 24., 15., 13., 10.,  9., 10.,  5.,  3.,  3.,  0.,  6.,  2.,\n",
       "         0.,  3.,  1.,  0.,  1.,  1.,  0.,  1.,  0.,  0.,  1.]),\n",
       " array([36.80840453, 37.46092011, 38.11343569, 38.76595126, 39.41846684,\n",
       "        40.07098242, 40.72349799, 41.37601357, 42.02852914, 42.68104472,\n",
       "        43.3335603 , 43.98607587, 44.63859145, 45.29110703, 45.9436226 ,\n",
       "        46.59613818, 47.24865375, 47.90116933, 48.55368491, 49.20620048,\n",
       "        49.85871606, 50.51123164, 51.16374721, 51.81626279, 52.46877836,\n",
       "        53.12129394, 53.77380952, 54.42632509, 55.07884067, 55.73135625,\n",
       "        56.38387182, 57.0363874 , 57.68890297, 58.34141855, 58.99393413,\n",
       "        59.6464497 , 60.29896528, 60.95148086, 61.60399643, 62.25651201,\n",
       "        62.90902758, 63.56154316, 64.21405874, 64.86657431, 65.51908989,\n",
       "        66.17160547, 66.82412104, 67.47663662, 68.12915219, 68.78166777,\n",
       "        69.43418335]),\n",
       " <a list of 50 Patch objects>)"
      ]
     },
     "execution_count": 56,
     "metadata": {},
     "output_type": "execute_result"
    },
    {
     "data": {
      "image/png": "[encoded data removed]",
      "text/plain": [
       "<Figure size 432x288 with 1 Axes>"
      ]
     },
     "metadata": {
      "needs_background": "light"
     },
     "output_type": "display_data"
    }
   ],
   "source": [
    "plt.hist(result_4a['total_time'], color=\"b\",alpha=.8, bins=50)"
   ]
  },
  {
   "cell_type": "code",
   "execution_count": 57,
   "metadata": {
    "collapsed": false
   },
   "outputs": [
    {
     "data": {
      "text/html": [
       "<div>\n",
       "<style scoped>\n",
       "    .dataframe tbody tr th:only-of-type {\n",
       "        vertical-align: middle;\n",
       "    }\n",
       "\n",
       "    .dataframe tbody tr th {\n",
       "        vertical-align: top;\n",
       "    }\n",
       "\n",
       "    .dataframe thead th {\n",
       "        text-align: right;\n",
       "    }\n",
       "</style>\n",
       "<table border=\"1\" class=\"dataframe\">\n",
       "  <thead>\n",
       "    <tr style=\"text-align: right;\">\n",
       "      <th></th>\n",
       "      <th>total_time</th>\n",
       "    </tr>\n",
       "  </thead>\n",
       "  <tbody>\n",
       "    <tr>\n",
       "      <th>count</th>\n",
       "      <td>1000.000000</td>\n",
       "    </tr>\n",
       "    <tr>\n",
       "      <th>mean</th>\n",
       "      <td>48.120234</td>\n",
       "    </tr>\n",
       "    <tr>\n",
       "      <th>std</th>\n",
       "      <td>4.771270</td>\n",
       "    </tr>\n",
       "    <tr>\n",
       "      <th>min</th>\n",
       "      <td>36.808405</td>\n",
       "    </tr>\n",
       "    <tr>\n",
       "      <th>25%</th>\n",
       "      <td>44.599580</td>\n",
       "    </tr>\n",
       "    <tr>\n",
       "      <th>50%</th>\n",
       "      <td>47.562425</td>\n",
       "    </tr>\n",
       "    <tr>\n",
       "      <th>75%</th>\n",
       "      <td>50.902888</td>\n",
       "    </tr>\n",
       "    <tr>\n",
       "      <th>max</th>\n",
       "      <td>69.434183</td>\n",
       "    </tr>\n",
       "  </tbody>\n",
       "</table>\n",
       "</div>"
      ],
      "text/plain": [
       "        total_time\n",
       "count  1000.000000\n",
       "mean     48.120234\n",
       "std       4.771270\n",
       "min      36.808405\n",
       "25%      44.599580\n",
       "50%      47.562425\n",
       "75%      50.902888\n",
       "max      69.434183"
      ]
     },
     "execution_count": 57,
     "metadata": {},
     "output_type": "execute_result"
    }
   ],
   "source": [
    "result_4a.describe()"
   ]
  },
  {
   "cell_type": "markdown",
   "metadata": {},
   "source": [
    "### Route 4b: Barclays Center - 5 train to W train to M60 to LGA"
   ]
  },
  {
   "cell_type": "code",
   "execution_count": 58,
   "metadata": {
    "collapsed": false
   },
   "outputs": [
    {
     "data": {
      "text/html": [
       "<div>\n",
       "<style scoped>\n",
       "    .dataframe tbody tr th:only-of-type {\n",
       "        vertical-align: middle;\n",
       "    }\n",
       "\n",
       "    .dataframe tbody tr th {\n",
       "        vertical-align: top;\n",
       "    }\n",
       "\n",
       "    .dataframe thead th {\n",
       "        text-align: right;\n",
       "    }\n",
       "</style>\n",
       "<table border=\"1\" class=\"dataframe\">\n",
       "  <thead>\n",
       "    <tr style=\"text-align: right;\">\n",
       "      <th></th>\n",
       "      <th>total_time</th>\n",
       "    </tr>\n",
       "  </thead>\n",
       "  <tbody>\n",
       "    <tr>\n",
       "      <th>0</th>\n",
       "      <td>102.586216</td>\n",
       "    </tr>\n",
       "    <tr>\n",
       "      <th>1</th>\n",
       "      <td>97.577119</td>\n",
       "    </tr>\n",
       "    <tr>\n",
       "      <th>2</th>\n",
       "      <td>104.814133</td>\n",
       "    </tr>\n",
       "    <tr>\n",
       "      <th>3</th>\n",
       "      <td>92.190026</td>\n",
       "    </tr>\n",
       "    <tr>\n",
       "      <th>4</th>\n",
       "      <td>111.706296</td>\n",
       "    </tr>\n",
       "  </tbody>\n",
       "</table>\n",
       "</div>"
      ],
      "text/plain": [
       "   total_time\n",
       "0  102.586216\n",
       "1   97.577119\n",
       "2  104.814133\n",
       "3   92.190026\n",
       "4  111.706296"
      ]
     },
     "execution_count": 58,
     "metadata": {},
     "output_type": "execute_result"
    }
   ],
   "source": [
    "result = []\n",
    "\n",
    "for i in range(1000):\n",
    "    wait_5 = kde_5.resample(1)\n",
    "    travel_5 = 29\n",
    "    wait_W = kde_W.resample(1)\n",
    "    travel_W = 12\n",
    "    wait_M60 = kde_M60.resample(1)\n",
    "    travel_M60 = kde_M60_travel.resample(1)\n",
    "\n",
    "\n",
    "    total_time = wait_5 + travel_5 + wait_W + travel_W + wait_M60 + travel_M60 \n",
    "    \n",
    "    result.extend(total_time)\n",
    "\n",
    "result_4b = pd.DataFrame(columns=['total_time'], data=result)\n",
    "result_4b.head()"
   ]
  },
  {
   "cell_type": "code",
   "execution_count": 59,
   "metadata": {
    "collapsed": false
   },
   "outputs": [
    {
     "data": {
      "text/plain": [
       "(array([ 7., 10., 14., 25., 33., 30., 50., 56., 61., 74., 70., 63., 70.,\n",
       "        52., 63., 40., 53., 35., 29., 26., 29., 25.,  8.,  3.,  6.,  9.,\n",
       "         8.,  8.,  4.,  4.,  4.,  1.,  2.,  3.,  3.,  2.,  1.,  2.,  3.,\n",
       "         2.,  1.,  5.,  2.,  0.,  0.,  2.,  0.,  0.,  1.,  1.]),\n",
       " array([ 70.92241762,  73.39767423,  75.87293085,  78.34818746,\n",
       "         80.82344407,  83.29870068,  85.77395729,  88.24921391,\n",
       "         90.72447052,  93.19972713,  95.67498374,  98.15024036,\n",
       "        100.62549697, 103.10075358, 105.57601019, 108.05126681,\n",
       "        110.52652342, 113.00178003, 115.47703664, 117.95229325,\n",
       "        120.42754987, 122.90280648, 125.37806309, 127.8533197 ,\n",
       "        130.32857632, 132.80383293, 135.27908954, 137.75434615,\n",
       "        140.22960277, 142.70485938, 145.18011599, 147.6553726 ,\n",
       "        150.13062921, 152.60588583, 155.08114244, 157.55639905,\n",
       "        160.03165566, 162.50691228, 164.98216889, 167.4574255 ,\n",
       "        169.93268211, 172.40793873, 174.88319534, 177.35845195,\n",
       "        179.83370856, 182.30896517, 184.78422179, 187.2594784 ,\n",
       "        189.73473501, 192.20999162, 194.68524824]),\n",
       " <a list of 50 Patch objects>)"
      ]
     },
     "execution_count": 59,
     "metadata": {},
     "output_type": "execute_result"
    },
    {
     "data": {
      "image/png": "[encoded data removed]",
      "text/plain": [
       "<Figure size 432x288 with 1 Axes>"
      ]
     },
     "metadata": {
      "needs_background": "light"
     },
     "output_type": "display_data"
    }
   ],
   "source": [
    "plt.hist(result_4b['total_time'], color=\"b\",alpha=.8, bins=50)"
   ]
  },
  {
   "cell_type": "code",
   "execution_count": 60,
   "metadata": {
    "collapsed": false
   },
   "outputs": [
    {
     "data": {
      "text/html": [
       "<div>\n",
       "<style scoped>\n",
       "    .dataframe tbody tr th:only-of-type {\n",
       "        vertical-align: middle;\n",
       "    }\n",
       "\n",
       "    .dataframe tbody tr th {\n",
       "        vertical-align: top;\n",
       "    }\n",
       "\n",
       "    .dataframe thead th {\n",
       "        text-align: right;\n",
       "    }\n",
       "</style>\n",
       "<table border=\"1\" class=\"dataframe\">\n",
       "  <thead>\n",
       "    <tr style=\"text-align: right;\">\n",
       "      <th></th>\n",
       "      <th>total_time</th>\n",
       "    </tr>\n",
       "  </thead>\n",
       "  <tbody>\n",
       "    <tr>\n",
       "      <th>count</th>\n",
       "      <td>1000.000000</td>\n",
       "    </tr>\n",
       "    <tr>\n",
       "      <th>mean</th>\n",
       "      <td>103.764136</td>\n",
       "    </tr>\n",
       "    <tr>\n",
       "      <th>std</th>\n",
       "      <td>18.317652</td>\n",
       "    </tr>\n",
       "    <tr>\n",
       "      <th>min</th>\n",
       "      <td>70.922418</td>\n",
       "    </tr>\n",
       "    <tr>\n",
       "      <th>25%</th>\n",
       "      <td>91.581655</td>\n",
       "    </tr>\n",
       "    <tr>\n",
       "      <th>50%</th>\n",
       "      <td>100.895627</td>\n",
       "    </tr>\n",
       "    <tr>\n",
       "      <th>75%</th>\n",
       "      <td>111.840147</td>\n",
       "    </tr>\n",
       "    <tr>\n",
       "      <th>max</th>\n",
       "      <td>194.685248</td>\n",
       "    </tr>\n",
       "  </tbody>\n",
       "</table>\n",
       "</div>"
      ],
      "text/plain": [
       "        total_time\n",
       "count  1000.000000\n",
       "mean    103.764136\n",
       "std      18.317652\n",
       "min      70.922418\n",
       "25%      91.581655\n",
       "50%     100.895627\n",
       "75%     111.840147\n",
       "max     194.685248"
      ]
     },
     "execution_count": 60,
     "metadata": {},
     "output_type": "execute_result"
    }
   ],
   "source": [
    "result_4b.describe()"
   ]
  },
  {
   "cell_type": "markdown",
   "metadata": {},
   "source": [
    "## Hypothesis Tests"
   ]
  },
  {
   "cell_type": "code",
   "execution_count": null,
   "metadata": {
    "collapsed": true
   },
   "outputs": [],
   "source": [
    "#https://pythonfordatascience.org/welch-t-test-python-pandas/"
   ]
  },
  {
   "cell_type": "markdown",
   "metadata": {
    "collapsed": true
   },
   "source": [
    "airtrain versus now, which is faster? \n"
   ]
  },
  {
   "cell_type": "code",
   "execution_count": 65,
   "metadata": {
    "collapsed": true
   },
   "outputs": [],
   "source": [
    "TimesSq_airtrain= result_1a['total_time']\n",
    "TimesSq_now= result_1b['total_time']\n",
    "\n"
   ]
  },
  {
   "cell_type": "code",
   "execution_count": 66,
   "metadata": {
    "collapsed": false
   },
   "outputs": [
    {
     "data": {
      "text/plain": [
       "Ttest_indResult(statistic=-11.48313959940517, pvalue=4.5840270950342245e-29)"
      ]
     },
     "execution_count": 66,
     "metadata": {},
     "output_type": "execute_result"
    }
   ],
   "source": [
    "stats.ttest_ind(TimesSq_airtrain, TimesSq_now, equal_var = False)\n"
   ]
  },
  {
   "cell_type": "code",
   "execution_count": 67,
   "metadata": {
    "collapsed": false
   },
   "outputs": [
    {
     "data": {
      "text/plain": [
       "46.30772856208306"
      ]
     },
     "execution_count": 67,
     "metadata": {},
     "output_type": "execute_result"
    }
   ],
   "source": [
    "TimesSq_now.mean()"
   ]
  },
  {
   "cell_type": "code",
   "execution_count": 68,
   "metadata": {
    "collapsed": false
   },
   "outputs": [
    {
     "data": {
      "text/plain": [
       "10.399204495325899"
      ]
     },
     "execution_count": 68,
     "metadata": {},
     "output_type": "execute_result"
    }
   ],
   "source": [
    "TimesSq_now.std()"
   ]
  },
  {
   "cell_type": "code",
   "execution_count": 69,
   "metadata": {
    "collapsed": false
   },
   "outputs": [
    {
     "data": {
      "text/plain": [
       "42.31705496002682"
      ]
     },
     "execution_count": 69,
     "metadata": {},
     "output_type": "execute_result"
    }
   ],
   "source": [
    "TimesSq_airtrain.mean()"
   ]
  },
  {
   "cell_type": "code",
   "execution_count": 70,
   "metadata": {
    "collapsed": false
   },
   "outputs": [
    {
     "data": {
      "text/plain": [
       "3.55385704372641"
      ]
     },
     "execution_count": 70,
     "metadata": {},
     "output_type": "execute_result"
    }
   ],
   "source": [
    "TimesSq_airtrain.std()"
   ]
  },
  {
   "cell_type": "code",
   "execution_count": 71,
   "metadata": {
    "collapsed": true
   },
   "outputs": [],
   "source": [
    "Flushing_airtrain= result_2a['total_time']\n",
    "Flushing_now= result_2b['total_time']\n",
    "\n",
    "\n"
   ]
  },
  {
   "cell_type": "code",
   "execution_count": 72,
   "metadata": {
    "collapsed": false
   },
   "outputs": [
    {
     "data": {
      "text/plain": [
       "Ttest_indResult(statistic=-59.69307818394244, pvalue=0.0)"
      ]
     },
     "execution_count": 72,
     "metadata": {},
     "output_type": "execute_result"
    }
   ],
   "source": [
    "stats.ttest_ind(Flushing_airtrain, Flushing_now, equal_var = False)\n"
   ]
  },
  {
   "cell_type": "code",
   "execution_count": 73,
   "metadata": {
    "collapsed": false
   },
   "outputs": [
    {
     "data": {
      "text/plain": [
       "14.081348528580095"
      ]
     },
     "execution_count": 73,
     "metadata": {},
     "output_type": "execute_result"
    }
   ],
   "source": [
    "Flushing_airtrain.mean()"
   ]
  },
  {
   "cell_type": "code",
   "execution_count": 88,
   "metadata": {
    "collapsed": false
   },
   "outputs": [
    {
     "data": {
      "text/plain": [
       "3.595562908057629"
      ]
     },
     "execution_count": 88,
     "metadata": {},
     "output_type": "execute_result"
    }
   ],
   "source": [
    "Flushing_airtrain.std()"
   ]
  },
  {
   "cell_type": "code",
   "execution_count": 74,
   "metadata": {
    "collapsed": false
   },
   "outputs": [
    {
     "data": {
      "text/plain": [
       "35.21224612541093"
      ]
     },
     "execution_count": 74,
     "metadata": {},
     "output_type": "execute_result"
    }
   ],
   "source": [
    "Flushing_now.mean()"
   ]
  },
  {
   "cell_type": "code",
   "execution_count": 87,
   "metadata": {
    "collapsed": false
   },
   "outputs": [
    {
     "data": {
      "text/plain": [
       "10.601064354853243"
      ]
     },
     "execution_count": 87,
     "metadata": {},
     "output_type": "execute_result"
    }
   ],
   "source": [
    "Flushing_now.std()"
   ]
  },
  {
   "cell_type": "code",
   "execution_count": 75,
   "metadata": {
    "collapsed": true
   },
   "outputs": [],
   "source": [
    "Harlem_airtrain = result_3a['total_time']\n",
    "Harlem_now = result_3b['total_time']"
   ]
  },
  {
   "cell_type": "code",
   "execution_count": 76,
   "metadata": {
    "collapsed": false
   },
   "outputs": [
    {
     "data": {
      "text/plain": [
       "59.10827668495056"
      ]
     },
     "execution_count": 76,
     "metadata": {},
     "output_type": "execute_result"
    }
   ],
   "source": [
    "Harlem_airtrain.mean()"
   ]
  },
  {
   "cell_type": "code",
   "execution_count": 77,
   "metadata": {
    "collapsed": false
   },
   "outputs": [
    {
     "data": {
      "text/plain": [
       "14.720234670289841"
      ]
     },
     "execution_count": 77,
     "metadata": {},
     "output_type": "execute_result"
    }
   ],
   "source": [
    "Harlem_airtrain.std()"
   ]
  },
  {
   "cell_type": "code",
   "execution_count": 78,
   "metadata": {
    "collapsed": false
   },
   "outputs": [
    {
     "data": {
      "text/plain": [
       "46.60141048023725"
      ]
     },
     "execution_count": 78,
     "metadata": {},
     "output_type": "execute_result"
    }
   ],
   "source": [
    "Harlem_now.mean()"
   ]
  },
  {
   "cell_type": "code",
   "execution_count": 79,
   "metadata": {
    "collapsed": false
   },
   "outputs": [
    {
     "data": {
      "text/plain": [
       "7.978256310942072"
      ]
     },
     "execution_count": 79,
     "metadata": {},
     "output_type": "execute_result"
    }
   ],
   "source": [
    "Harlem_now.std()"
   ]
  },
  {
   "cell_type": "code",
   "execution_count": 80,
   "metadata": {
    "collapsed": false
   },
   "outputs": [
    {
     "data": {
      "text/plain": [
       "Ttest_indResult(statistic=23.621507456176747, pvalue=1.6074758370917954e-105)"
      ]
     },
     "execution_count": 80,
     "metadata": {},
     "output_type": "execute_result"
    }
   ],
   "source": [
    "stats.ttest_ind(Harlem_airtrain, Harlem_now, equal_var = False)\n"
   ]
  },
  {
   "cell_type": "code",
   "execution_count": 81,
   "metadata": {
    "collapsed": true
   },
   "outputs": [],
   "source": [
    "Barclays_airtrain = result_4a['total_time']\n",
    "Barclays_now = result_4b['total_time']"
   ]
  },
  {
   "cell_type": "code",
   "execution_count": 82,
   "metadata": {
    "collapsed": false
   },
   "outputs": [
    {
     "data": {
      "text/plain": [
       "4.771270476576488"
      ]
     },
     "execution_count": 82,
     "metadata": {},
     "output_type": "execute_result"
    }
   ],
   "source": [
    "Barclays_airtrain.std()"
   ]
  },
  {
   "cell_type": "code",
   "execution_count": 83,
   "metadata": {
    "collapsed": false
   },
   "outputs": [
    {
     "data": {
      "text/plain": [
       "48.12023411551281"
      ]
     },
     "execution_count": 83,
     "metadata": {},
     "output_type": "execute_result"
    }
   ],
   "source": [
    "Barclays_airtrain.mean()"
   ]
  },
  {
   "cell_type": "code",
   "execution_count": 84,
   "metadata": {
    "collapsed": false
   },
   "outputs": [
    {
     "data": {
      "text/plain": [
       "18.3176524789889"
      ]
     },
     "execution_count": 84,
     "metadata": {},
     "output_type": "execute_result"
    }
   ],
   "source": [
    "Barclays_now.std()"
   ]
  },
  {
   "cell_type": "code",
   "execution_count": 85,
   "metadata": {
    "collapsed": false
   },
   "outputs": [
    {
     "data": {
      "text/plain": [
       "103.76413642598295"
      ]
     },
     "execution_count": 85,
     "metadata": {},
     "output_type": "execute_result"
    }
   ],
   "source": [
    "Barclays_now.mean()"
   ]
  },
  {
   "cell_type": "code",
   "execution_count": 86,
   "metadata": {
    "collapsed": false
   },
   "outputs": [
    {
     "data": {
      "text/plain": [
       "Ttest_indResult(statistic=-92.95940135694153, pvalue=0.0)"
      ]
     },
     "execution_count": 86,
     "metadata": {},
     "output_type": "execute_result"
    }
   ],
   "source": [
    "stats.ttest_ind(Barclays_airtrain, Barclays_now, equal_var = False)\n",
    "\n"
   ]
  },
  {
   "cell_type": "code",
   "execution_count": null,
   "metadata": {
    "collapsed": true
   },
   "outputs": [],
   "source": []
  }
 ],
 "metadata": {
  "kernelspec": {
   "display_name": "Python 2",
   "language": "python",
   "name": "python2"
  },
  "language_info": {
   "codemirror_mode": {
    "name": "ipython",
    "version": 2
   },
   "file_extension": ".py",
   "mimetype": "text/x-python",
   "name": "python",
   "nbconvert_exporter": "python",
   "pygments_lexer": "ipython2",
   "version": "2.7.15"
  }
 },
 "nbformat": 4,
 "nbformat_minor": 2
}
